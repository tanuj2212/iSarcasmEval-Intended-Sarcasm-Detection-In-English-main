{
  "nbformat": 4,
  "nbformat_minor": 0,
  "metadata": {
    "colab": {
      "name": "Sub-taskB_Fine_Tune_BERT_for_Text_Classification_with_TensorFlow .ipynb",
      "provenance": [],
      "collapsed_sections": [],
      "machine_shape": "hm"
    },
    "kernelspec": {
      "name": "python3",
      "display_name": "Python 3"
    },
    "accelerator": "GPU"
  },
  "cells": [
    {
      "cell_type": "code",
      "metadata": {
        "id": "8V9c8vzSL3aj"
      },
      "source": [
        "!nvidia-smi"
      ],
      "execution_count": null,
      "outputs": []
    },
    {
      "cell_type": "markdown",
      "metadata": {
        "id": "Obch3rAuBVf0"
      },
      "source": [
        "### Install TensorFlow "
      ]
    },
    {
      "cell_type": "code",
      "metadata": {
        "id": "bUQEY3dFB0jX",
        "colab": {
          "base_uri": "https://localhost:8080/"
        },
        "outputId": "e62efcd0-a10b-41a1-8424-aaa5c7ec1a15"
      },
      "source": [
        "import tensorflow as tf\n",
        "print(tf.version.VERSION)"
      ],
      "execution_count": null,
      "outputs": [
        {
          "output_type": "stream",
          "name": "stdout",
          "text": [
            "2.3.0\n"
          ]
        }
      ]
    },
    {
      "cell_type": "code",
      "metadata": {
        "id": "aU3YLZ1TYKUt"
      },
      "source": [
        "!pip install -q tensorflow==2.3.0"
      ],
      "execution_count": null,
      "outputs": []
    },
    {
      "cell_type": "code",
      "metadata": {
        "id": "AFRTC-zwUy6D"
      },
      "source": [
        "!git clone --depth 1 -b v2.3.0 https://github.com/tensorflow/models.git"
      ],
      "execution_count": null,
      "outputs": []
    },
    {
      "cell_type": "code",
      "metadata": {
        "id": "3H2G0571zLLs"
      },
      "source": [
        "# install requirements to use tensorflow/models repository\n",
        "!pip install -Uqr models/official/requirements.txt\n",
        "# you may have to restart the runtime afterwards"
      ],
      "execution_count": null,
      "outputs": []
    },
    {
      "cell_type": "markdown",
      "metadata": {
        "id": "IMsEoT3Fg4Wg"
      },
      "source": [
        "## Library Import "
      ]
    },
    {
      "cell_type": "code",
      "metadata": {
        "id": "GmqEylyFYTdP"
      },
      "source": [
        "import numpy as np\n",
        "import tensorflow as tf\n",
        "import tensorflow_hub as hub\n",
        "import sys\n",
        "sys.path.append('models')\n",
        "from official.nlp.data import classifier_data_lib\n",
        "from official.nlp.bert import tokenization\n",
        "from official.nlp import optimization"
      ],
      "execution_count": null,
      "outputs": []
    },
    {
      "cell_type": "code",
      "metadata": {
        "id": "ZuX1lB8pPJ-W",
        "colab": {
          "base_uri": "https://localhost:8080/"
        },
        "outputId": "969a6fca-79bf-403d-f2fa-7c530411129e"
      },
      "source": [
        "print(\"TF Version: \", tf.__version__)\n",
        "print(\"Eager mode: \", tf.executing_eagerly())\n",
        "print(\"Hub version: \", hub.__version__)\n",
        "print(\"GPU is\", \"available\" if tf.config.experimental.list_physical_devices(\"GPU\") else \"NOT AVAILABLE\")"
      ],
      "execution_count": null,
      "outputs": [
        {
          "output_type": "stream",
          "name": "stdout",
          "text": [
            "TF Version:  2.3.0\n",
            "Eager mode:  True\n",
            "Hub version:  0.12.0\n",
            "GPU is available\n"
          ]
        }
      ]
    },
    {
      "cell_type": "code",
      "metadata": {
        "id": "0nI-9itVwCCQ"
      },
      "source": [
        "import numpy as np\n",
        "import pandas as pd\n",
        "from sklearn.model_selection import train_test_split"
      ],
      "execution_count": null,
      "outputs": []
    },
    {
      "cell_type": "markdown",
      "source": [
        "## Import Data for each category "
      ],
      "metadata": {
        "id": "HafOQqhArkFA"
      }
    },
    {
      "cell_type": "code",
      "source": [
        "df2_irony = pd.read_csv(\"irony_data.csv\")   \n",
        "df2_satire = pd.read_csv(\"satire_data.csv\")\n",
        "df2_understatement = pd.read_csv(\"understatement_data.csv\")\n",
        "df2_rhetorical_question = pd.read_csv(\"rhetorical_question_data.csv\")\n",
        "df2_overstatement = pd.read_csv(\"overstatement_data.csv\")\n",
        "\n",
        "df2_irony =df2_irony.drop([\"Unnamed: 0\"],axis=1)\n",
        "df2_satire =df2_satire.drop([\"Unnamed: 0\"],axis=1)\n",
        "df2_understatement =df2_understatement.drop([\"Unnamed: 0\"],axis=1)\n",
        "df2_rhetorical_question =df2_rhetorical_question.drop([\"Unnamed: 0\"],axis=1)\n",
        "df2_overstatement =df2_overstatement.drop([\"Unnamed: 0\"],axis=1)\n"
      ],
      "metadata": {
        "id": "yVVApQjR6Rpr"
      },
      "execution_count": null,
      "outputs": []
    },
    {
      "cell_type": "code",
      "source": [
        "df2_overstatement"
      ],
      "metadata": {
        "colab": {
          "base_uri": "https://localhost:8080/",
          "height": 423
        },
        "id": "NYPHqHL2VRYc",
        "outputId": "8ac161b5-9a45-497f-f20e-c4e2bd693a14"
      },
      "execution_count": null,
      "outputs": [
        {
          "output_type": "execute_result",
          "data": {
            "text/html": [
              "\n",
              "  <div id=\"df-05edae80-0f1b-4154-9a15-504018df1234\">\n",
              "    <div class=\"colab-df-container\">\n",
              "      <div>\n",
              "<style scoped>\n",
              "    .dataframe tbody tr th:only-of-type {\n",
              "        vertical-align: middle;\n",
              "    }\n",
              "\n",
              "    .dataframe tbody tr th {\n",
              "        vertical-align: top;\n",
              "    }\n",
              "\n",
              "    .dataframe thead th {\n",
              "        text-align: right;\n",
              "    }\n",
              "</style>\n",
              "<table border=\"1\" class=\"dataframe\">\n",
              "  <thead>\n",
              "    <tr style=\"text-align: right;\">\n",
              "      <th></th>\n",
              "      <th>tweet</th>\n",
              "      <th>overstatement</th>\n",
              "    </tr>\n",
              "  </thead>\n",
              "  <tbody>\n",
              "    <tr>\n",
              "      <th>0</th>\n",
              "      <td>over 90 % of adulthood ale is consumed just re...</td>\n",
              "      <td>1</td>\n",
              "    </tr>\n",
              "    <tr>\n",
              "      <th>1</th>\n",
              "      <td>another 90 % amount of adulthood intake is jus...</td>\n",
              "      <td>1</td>\n",
              "    </tr>\n",
              "    <tr>\n",
              "      <th>2</th>\n",
              "      <td>90 % percent of adulthood consumers is just en...</td>\n",
              "      <td>1</td>\n",
              "    </tr>\n",
              "    <tr>\n",
              "      <th>3</th>\n",
              "      <td>he heard a rumor happen that a baja vista blas...</td>\n",
              "      <td>1</td>\n",
              "    </tr>\n",
              "    <tr>\n",
              "      <th>4</th>\n",
              "      <td>heard a common rumor that baja energy blast is...</td>\n",
              "      <td>1</td>\n",
              "    </tr>\n",
              "    <tr>\n",
              "      <th>...</th>\n",
              "      <td>...</td>\n",
              "      <td>...</td>\n",
              "    </tr>\n",
              "    <tr>\n",
              "      <th>115</th>\n",
              "      <td>if you just don't feel like lemonade pie you'm...</td>\n",
              "      <td>1</td>\n",
              "    </tr>\n",
              "    <tr>\n",
              "      <th>116</th>\n",
              "      <td>maybe if you just don't like lemonade soup you...</td>\n",
              "      <td>1</td>\n",
              "    </tr>\n",
              "    <tr>\n",
              "      <th>117</th>\n",
              "      <td>i ’ ″ m already dying</td>\n",
              "      <td>1</td>\n",
              "    </tr>\n",
              "    <tr>\n",
              "      <th>118</th>\n",
              "      <td>when i really ’ m dying</td>\n",
              "      <td>1</td>\n",
              "    </tr>\n",
              "    <tr>\n",
              "      <th>119</th>\n",
              "      <td>i ’... m not dying</td>\n",
              "      <td>1</td>\n",
              "    </tr>\n",
              "  </tbody>\n",
              "</table>\n",
              "<p>120 rows × 2 columns</p>\n",
              "</div>\n",
              "      <button class=\"colab-df-convert\" onclick=\"convertToInteractive('df-05edae80-0f1b-4154-9a15-504018df1234')\"\n",
              "              title=\"Convert this dataframe to an interactive table.\"\n",
              "              style=\"display:none;\">\n",
              "        \n",
              "  <svg xmlns=\"http://www.w3.org/2000/svg\" height=\"24px\"viewBox=\"0 0 24 24\"\n",
              "       width=\"24px\">\n",
              "    <path d=\"M0 0h24v24H0V0z\" fill=\"none\"/>\n",
              "    <path d=\"M18.56 5.44l.94 2.06.94-2.06 2.06-.94-2.06-.94-.94-2.06-.94 2.06-2.06.94zm-11 1L8.5 8.5l.94-2.06 2.06-.94-2.06-.94L8.5 2.5l-.94 2.06-2.06.94zm10 10l.94 2.06.94-2.06 2.06-.94-2.06-.94-.94-2.06-.94 2.06-2.06.94z\"/><path d=\"M17.41 7.96l-1.37-1.37c-.4-.4-.92-.59-1.43-.59-.52 0-1.04.2-1.43.59L10.3 9.45l-7.72 7.72c-.78.78-.78 2.05 0 2.83L4 21.41c.39.39.9.59 1.41.59.51 0 1.02-.2 1.41-.59l7.78-7.78 2.81-2.81c.8-.78.8-2.07 0-2.86zM5.41 20L4 18.59l7.72-7.72 1.47 1.35L5.41 20z\"/>\n",
              "  </svg>\n",
              "      </button>\n",
              "      \n",
              "  <style>\n",
              "    .colab-df-container {\n",
              "      display:flex;\n",
              "      flex-wrap:wrap;\n",
              "      gap: 12px;\n",
              "    }\n",
              "\n",
              "    .colab-df-convert {\n",
              "      background-color: #E8F0FE;\n",
              "      border: none;\n",
              "      border-radius: 50%;\n",
              "      cursor: pointer;\n",
              "      display: none;\n",
              "      fill: #1967D2;\n",
              "      height: 32px;\n",
              "      padding: 0 0 0 0;\n",
              "      width: 32px;\n",
              "    }\n",
              "\n",
              "    .colab-df-convert:hover {\n",
              "      background-color: #E2EBFA;\n",
              "      box-shadow: 0px 1px 2px rgba(60, 64, 67, 0.3), 0px 1px 3px 1px rgba(60, 64, 67, 0.15);\n",
              "      fill: #174EA6;\n",
              "    }\n",
              "\n",
              "    [theme=dark] .colab-df-convert {\n",
              "      background-color: #3B4455;\n",
              "      fill: #D2E3FC;\n",
              "    }\n",
              "\n",
              "    [theme=dark] .colab-df-convert:hover {\n",
              "      background-color: #434B5C;\n",
              "      box-shadow: 0px 1px 3px 1px rgba(0, 0, 0, 0.15);\n",
              "      filter: drop-shadow(0px 1px 2px rgba(0, 0, 0, 0.3));\n",
              "      fill: #FFFFFF;\n",
              "    }\n",
              "  </style>\n",
              "\n",
              "      <script>\n",
              "        const buttonEl =\n",
              "          document.querySelector('#df-05edae80-0f1b-4154-9a15-504018df1234 button.colab-df-convert');\n",
              "        buttonEl.style.display =\n",
              "          google.colab.kernel.accessAllowed ? 'block' : 'none';\n",
              "\n",
              "        async function convertToInteractive(key) {\n",
              "          const element = document.querySelector('#df-05edae80-0f1b-4154-9a15-504018df1234');\n",
              "          const dataTable =\n",
              "            await google.colab.kernel.invokeFunction('convertToInteractive',\n",
              "                                                     [key], {});\n",
              "          if (!dataTable) return;\n",
              "\n",
              "          const docLinkHtml = 'Like what you see? Visit the ' +\n",
              "            '<a target=\"_blank\" href=https://colab.research.google.com/notebooks/data_table.ipynb>data table notebook</a>'\n",
              "            + ' to learn more about interactive tables.';\n",
              "          element.innerHTML = '';\n",
              "          dataTable['output_type'] = 'display_data';\n",
              "          await google.colab.output.renderOutput(dataTable, element);\n",
              "          const docLink = document.createElement('div');\n",
              "          docLink.innerHTML = docLinkHtml;\n",
              "          element.appendChild(docLink);\n",
              "        }\n",
              "      </script>\n",
              "    </div>\n",
              "  </div>\n",
              "  "
            ],
            "text/plain": [
              "                                                 tweet  overstatement\n",
              "0    over 90 % of adulthood ale is consumed just re...              1\n",
              "1    another 90 % amount of adulthood intake is jus...              1\n",
              "2    90 % percent of adulthood consumers is just en...              1\n",
              "3    he heard a rumor happen that a baja vista blas...              1\n",
              "4    heard a common rumor that baja energy blast is...              1\n",
              "..                                                 ...            ...\n",
              "115  if you just don't feel like lemonade pie you'm...              1\n",
              "116  maybe if you just don't like lemonade soup you...              1\n",
              "117                              i ’ ″ m already dying              1\n",
              "118                            when i really ’ m dying              1\n",
              "119                                 i ’... m not dying              1\n",
              "\n",
              "[120 rows x 2 columns]"
            ]
          },
          "metadata": {},
          "execution_count": 136
        }
      ]
    },
    {
      "cell_type": "code",
      "source": [
        "df30 = pd.read_csv(\"train.En.csv\")\n",
        "\n",
        "df30_irony= df30[[\"tweet\",\"irony\"]]\n",
        "df30_irony = df30_irony[0:867]\n",
        "\n",
        "df30_satire= df30[[\"tweet\",\"satire\"]]\n",
        "df30_satire = df30_satire[0:867]\n",
        "\n",
        "df30_understatement= df30[[\"tweet\",\"understatement\"]]\n",
        "df30_understatement = df30_understatement[0:867]\n",
        "\n",
        "df30_rhetorical_question= df30[[\"tweet\",\"rhetorical_question\"]]\n",
        "df30_rhetorical_question = df30_rhetorical_question[0:867]\n",
        "\n",
        "df30_overstatement= df30[[\"tweet\",\"overstatement\"]]\n",
        "df30_overstatement = df30_overstatement[0:867]"
      ],
      "metadata": {
        "id": "FdK4iWqaV3WD"
      },
      "execution_count": null,
      "outputs": []
    },
    {
      "cell_type": "code",
      "source": [
        "df30_overstatement"
      ],
      "metadata": {
        "colab": {
          "base_uri": "https://localhost:8080/",
          "height": 423
        },
        "id": "7wbkeBZ6M2ms",
        "outputId": "97df65ad-dd62-4424-e5af-8a361b7fd39b"
      },
      "execution_count": null,
      "outputs": [
        {
          "output_type": "execute_result",
          "data": {
            "text/html": [
              "\n",
              "  <div id=\"df-335c3533-120f-42c1-a8b8-d147ed240918\">\n",
              "    <div class=\"colab-df-container\">\n",
              "      <div>\n",
              "<style scoped>\n",
              "    .dataframe tbody tr th:only-of-type {\n",
              "        vertical-align: middle;\n",
              "    }\n",
              "\n",
              "    .dataframe tbody tr th {\n",
              "        vertical-align: top;\n",
              "    }\n",
              "\n",
              "    .dataframe thead th {\n",
              "        text-align: right;\n",
              "    }\n",
              "</style>\n",
              "<table border=\"1\" class=\"dataframe\">\n",
              "  <thead>\n",
              "    <tr style=\"text-align: right;\">\n",
              "      <th></th>\n",
              "      <th>tweet</th>\n",
              "      <th>overstatement</th>\n",
              "    </tr>\n",
              "  </thead>\n",
              "  <tbody>\n",
              "    <tr>\n",
              "      <th>0</th>\n",
              "      <td>The only thing I got from college is a caffein...</td>\n",
              "      <td>0.0</td>\n",
              "    </tr>\n",
              "    <tr>\n",
              "      <th>1</th>\n",
              "      <td>I love it when professors draw a big question ...</td>\n",
              "      <td>0.0</td>\n",
              "    </tr>\n",
              "    <tr>\n",
              "      <th>2</th>\n",
              "      <td>Remember the hundred emails from companies whe...</td>\n",
              "      <td>0.0</td>\n",
              "    </tr>\n",
              "    <tr>\n",
              "      <th>3</th>\n",
              "      <td>Today my pop-pop told me I was not “forced” to...</td>\n",
              "      <td>0.0</td>\n",
              "    </tr>\n",
              "    <tr>\n",
              "      <th>4</th>\n",
              "      <td>@VolphanCarol @littlewhitty @mysticalmanatee I...</td>\n",
              "      <td>0.0</td>\n",
              "    </tr>\n",
              "    <tr>\n",
              "      <th>...</th>\n",
              "      <td>...</td>\n",
              "      <td>...</td>\n",
              "    </tr>\n",
              "    <tr>\n",
              "      <th>862</th>\n",
              "      <td>yo @claires do yall do hysterectomies?</td>\n",
              "      <td>0.0</td>\n",
              "    </tr>\n",
              "    <tr>\n",
              "      <th>863</th>\n",
              "      <td>@JacobWohlReport Do I need to aquire a wife be...</td>\n",
              "      <td>0.0</td>\n",
              "    </tr>\n",
              "    <tr>\n",
              "      <th>864</th>\n",
              "      <td>I get a lot of boy who cried wolf vibes from t...</td>\n",
              "      <td>0.0</td>\n",
              "    </tr>\n",
              "    <tr>\n",
              "      <th>865</th>\n",
              "      <td>Update: holding hands with your mom and walkin...</td>\n",
              "      <td>0.0</td>\n",
              "    </tr>\n",
              "    <tr>\n",
              "      <th>866</th>\n",
              "      <td>I might be rubbish at driving, and have a less...</td>\n",
              "      <td>0.0</td>\n",
              "    </tr>\n",
              "  </tbody>\n",
              "</table>\n",
              "<p>867 rows × 2 columns</p>\n",
              "</div>\n",
              "      <button class=\"colab-df-convert\" onclick=\"convertToInteractive('df-335c3533-120f-42c1-a8b8-d147ed240918')\"\n",
              "              title=\"Convert this dataframe to an interactive table.\"\n",
              "              style=\"display:none;\">\n",
              "        \n",
              "  <svg xmlns=\"http://www.w3.org/2000/svg\" height=\"24px\"viewBox=\"0 0 24 24\"\n",
              "       width=\"24px\">\n",
              "    <path d=\"M0 0h24v24H0V0z\" fill=\"none\"/>\n",
              "    <path d=\"M18.56 5.44l.94 2.06.94-2.06 2.06-.94-2.06-.94-.94-2.06-.94 2.06-2.06.94zm-11 1L8.5 8.5l.94-2.06 2.06-.94-2.06-.94L8.5 2.5l-.94 2.06-2.06.94zm10 10l.94 2.06.94-2.06 2.06-.94-2.06-.94-.94-2.06-.94 2.06-2.06.94z\"/><path d=\"M17.41 7.96l-1.37-1.37c-.4-.4-.92-.59-1.43-.59-.52 0-1.04.2-1.43.59L10.3 9.45l-7.72 7.72c-.78.78-.78 2.05 0 2.83L4 21.41c.39.39.9.59 1.41.59.51 0 1.02-.2 1.41-.59l7.78-7.78 2.81-2.81c.8-.78.8-2.07 0-2.86zM5.41 20L4 18.59l7.72-7.72 1.47 1.35L5.41 20z\"/>\n",
              "  </svg>\n",
              "      </button>\n",
              "      \n",
              "  <style>\n",
              "    .colab-df-container {\n",
              "      display:flex;\n",
              "      flex-wrap:wrap;\n",
              "      gap: 12px;\n",
              "    }\n",
              "\n",
              "    .colab-df-convert {\n",
              "      background-color: #E8F0FE;\n",
              "      border: none;\n",
              "      border-radius: 50%;\n",
              "      cursor: pointer;\n",
              "      display: none;\n",
              "      fill: #1967D2;\n",
              "      height: 32px;\n",
              "      padding: 0 0 0 0;\n",
              "      width: 32px;\n",
              "    }\n",
              "\n",
              "    .colab-df-convert:hover {\n",
              "      background-color: #E2EBFA;\n",
              "      box-shadow: 0px 1px 2px rgba(60, 64, 67, 0.3), 0px 1px 3px 1px rgba(60, 64, 67, 0.15);\n",
              "      fill: #174EA6;\n",
              "    }\n",
              "\n",
              "    [theme=dark] .colab-df-convert {\n",
              "      background-color: #3B4455;\n",
              "      fill: #D2E3FC;\n",
              "    }\n",
              "\n",
              "    [theme=dark] .colab-df-convert:hover {\n",
              "      background-color: #434B5C;\n",
              "      box-shadow: 0px 1px 3px 1px rgba(0, 0, 0, 0.15);\n",
              "      filter: drop-shadow(0px 1px 2px rgba(0, 0, 0, 0.3));\n",
              "      fill: #FFFFFF;\n",
              "    }\n",
              "  </style>\n",
              "\n",
              "      <script>\n",
              "        const buttonEl =\n",
              "          document.querySelector('#df-335c3533-120f-42c1-a8b8-d147ed240918 button.colab-df-convert');\n",
              "        buttonEl.style.display =\n",
              "          google.colab.kernel.accessAllowed ? 'block' : 'none';\n",
              "\n",
              "        async function convertToInteractive(key) {\n",
              "          const element = document.querySelector('#df-335c3533-120f-42c1-a8b8-d147ed240918');\n",
              "          const dataTable =\n",
              "            await google.colab.kernel.invokeFunction('convertToInteractive',\n",
              "                                                     [key], {});\n",
              "          if (!dataTable) return;\n",
              "\n",
              "          const docLinkHtml = 'Like what you see? Visit the ' +\n",
              "            '<a target=\"_blank\" href=https://colab.research.google.com/notebooks/data_table.ipynb>data table notebook</a>'\n",
              "            + ' to learn more about interactive tables.';\n",
              "          element.innerHTML = '';\n",
              "          dataTable['output_type'] = 'display_data';\n",
              "          await google.colab.output.renderOutput(dataTable, element);\n",
              "          const docLink = document.createElement('div');\n",
              "          docLink.innerHTML = docLinkHtml;\n",
              "          element.appendChild(docLink);\n",
              "        }\n",
              "      </script>\n",
              "    </div>\n",
              "  </div>\n",
              "  "
            ],
            "text/plain": [
              "                                                 tweet  overstatement\n",
              "0    The only thing I got from college is a caffein...            0.0\n",
              "1    I love it when professors draw a big question ...            0.0\n",
              "2    Remember the hundred emails from companies whe...            0.0\n",
              "3    Today my pop-pop told me I was not “forced” to...            0.0\n",
              "4    @VolphanCarol @littlewhitty @mysticalmanatee I...            0.0\n",
              "..                                                 ...            ...\n",
              "862             yo @claires do yall do hysterectomies?            0.0\n",
              "863  @JacobWohlReport Do I need to aquire a wife be...            0.0\n",
              "864  I get a lot of boy who cried wolf vibes from t...            0.0\n",
              "865  Update: holding hands with your mom and walkin...            0.0\n",
              "866  I might be rubbish at driving, and have a less...            0.0\n",
              "\n",
              "[867 rows x 2 columns]"
            ]
          },
          "metadata": {},
          "execution_count": 138
        }
      ]
    },
    {
      "cell_type": "code",
      "source": [
        "df_irony=df2_irony.append(df30_irony)\n",
        "df_irony =df_irony.drop_duplicates(subset=['tweet'])\n",
        "df_irony = df_irony.astype({\"irony\":int}) \n",
        "\n",
        "df_satire=df2_satire.append(df30_satire)\n",
        "df_satire =df_satire.drop_duplicates(subset=['tweet'])\n",
        "df_satire = df_satire.astype({\"satire\":int}) \n",
        "\n",
        "df_understatement=df2_understatement.append(df30_understatement)\n",
        "df_understatement =df_understatement.drop_duplicates(subset=['tweet'])\n",
        "df_understatement = df_understatement.astype({\"understatement\":int}) \n",
        "\n",
        "df_rhetorical_question=df2_rhetorical_question.append(df30_rhetorical_question)\n",
        "df_rhetorical_question =df_rhetorical_question.drop_duplicates(subset=['tweet'])\n",
        "df_rhetorical_question = df_rhetorical_question.astype({\"rhetorical_question\":int}) \n",
        "\n",
        "df_overstatement=df2_overstatement.append(df30_overstatement)\n",
        "df_overstatement =df_overstatement.drop_duplicates(subset=['tweet'])\n",
        "df_overstatement = df_overstatement.astype({\"overstatement\":int}) "
      ],
      "metadata": {
        "id": "iYetJBEZXFij"
      },
      "execution_count": null,
      "outputs": []
    },
    {
      "cell_type": "code",
      "source": [
        "df_overstatement"
      ],
      "metadata": {
        "colab": {
          "base_uri": "https://localhost:8080/",
          "height": 423
        },
        "id": "gZyO4p94XKDL",
        "outputId": "22080195-a30e-4460-cbfe-dd2f9145ee83"
      },
      "execution_count": null,
      "outputs": [
        {
          "output_type": "execute_result",
          "data": {
            "text/html": [
              "\n",
              "  <div id=\"df-a79f199d-9c10-4173-ac1a-28c2b510496d\">\n",
              "    <div class=\"colab-df-container\">\n",
              "      <div>\n",
              "<style scoped>\n",
              "    .dataframe tbody tr th:only-of-type {\n",
              "        vertical-align: middle;\n",
              "    }\n",
              "\n",
              "    .dataframe tbody tr th {\n",
              "        vertical-align: top;\n",
              "    }\n",
              "\n",
              "    .dataframe thead th {\n",
              "        text-align: right;\n",
              "    }\n",
              "</style>\n",
              "<table border=\"1\" class=\"dataframe\">\n",
              "  <thead>\n",
              "    <tr style=\"text-align: right;\">\n",
              "      <th></th>\n",
              "      <th>tweet</th>\n",
              "      <th>overstatement</th>\n",
              "    </tr>\n",
              "  </thead>\n",
              "  <tbody>\n",
              "    <tr>\n",
              "      <th>0</th>\n",
              "      <td>over 90 % of adulthood ale is consumed just re...</td>\n",
              "      <td>1</td>\n",
              "    </tr>\n",
              "    <tr>\n",
              "      <th>1</th>\n",
              "      <td>another 90 % amount of adulthood intake is jus...</td>\n",
              "      <td>1</td>\n",
              "    </tr>\n",
              "    <tr>\n",
              "      <th>2</th>\n",
              "      <td>90 % percent of adulthood consumers is just en...</td>\n",
              "      <td>1</td>\n",
              "    </tr>\n",
              "    <tr>\n",
              "      <th>3</th>\n",
              "      <td>he heard a rumor happen that a baja vista blas...</td>\n",
              "      <td>1</td>\n",
              "    </tr>\n",
              "    <tr>\n",
              "      <th>4</th>\n",
              "      <td>heard a common rumor that baja energy blast is...</td>\n",
              "      <td>1</td>\n",
              "    </tr>\n",
              "    <tr>\n",
              "      <th>...</th>\n",
              "      <td>...</td>\n",
              "      <td>...</td>\n",
              "    </tr>\n",
              "    <tr>\n",
              "      <th>862</th>\n",
              "      <td>yo @claires do yall do hysterectomies?</td>\n",
              "      <td>0</td>\n",
              "    </tr>\n",
              "    <tr>\n",
              "      <th>863</th>\n",
              "      <td>@JacobWohlReport Do I need to aquire a wife be...</td>\n",
              "      <td>0</td>\n",
              "    </tr>\n",
              "    <tr>\n",
              "      <th>864</th>\n",
              "      <td>I get a lot of boy who cried wolf vibes from t...</td>\n",
              "      <td>0</td>\n",
              "    </tr>\n",
              "    <tr>\n",
              "      <th>865</th>\n",
              "      <td>Update: holding hands with your mom and walkin...</td>\n",
              "      <td>0</td>\n",
              "    </tr>\n",
              "    <tr>\n",
              "      <th>866</th>\n",
              "      <td>I might be rubbish at driving, and have a less...</td>\n",
              "      <td>0</td>\n",
              "    </tr>\n",
              "  </tbody>\n",
              "</table>\n",
              "<p>987 rows × 2 columns</p>\n",
              "</div>\n",
              "      <button class=\"colab-df-convert\" onclick=\"convertToInteractive('df-a79f199d-9c10-4173-ac1a-28c2b510496d')\"\n",
              "              title=\"Convert this dataframe to an interactive table.\"\n",
              "              style=\"display:none;\">\n",
              "        \n",
              "  <svg xmlns=\"http://www.w3.org/2000/svg\" height=\"24px\"viewBox=\"0 0 24 24\"\n",
              "       width=\"24px\">\n",
              "    <path d=\"M0 0h24v24H0V0z\" fill=\"none\"/>\n",
              "    <path d=\"M18.56 5.44l.94 2.06.94-2.06 2.06-.94-2.06-.94-.94-2.06-.94 2.06-2.06.94zm-11 1L8.5 8.5l.94-2.06 2.06-.94-2.06-.94L8.5 2.5l-.94 2.06-2.06.94zm10 10l.94 2.06.94-2.06 2.06-.94-2.06-.94-.94-2.06-.94 2.06-2.06.94z\"/><path d=\"M17.41 7.96l-1.37-1.37c-.4-.4-.92-.59-1.43-.59-.52 0-1.04.2-1.43.59L10.3 9.45l-7.72 7.72c-.78.78-.78 2.05 0 2.83L4 21.41c.39.39.9.59 1.41.59.51 0 1.02-.2 1.41-.59l7.78-7.78 2.81-2.81c.8-.78.8-2.07 0-2.86zM5.41 20L4 18.59l7.72-7.72 1.47 1.35L5.41 20z\"/>\n",
              "  </svg>\n",
              "      </button>\n",
              "      \n",
              "  <style>\n",
              "    .colab-df-container {\n",
              "      display:flex;\n",
              "      flex-wrap:wrap;\n",
              "      gap: 12px;\n",
              "    }\n",
              "\n",
              "    .colab-df-convert {\n",
              "      background-color: #E8F0FE;\n",
              "      border: none;\n",
              "      border-radius: 50%;\n",
              "      cursor: pointer;\n",
              "      display: none;\n",
              "      fill: #1967D2;\n",
              "      height: 32px;\n",
              "      padding: 0 0 0 0;\n",
              "      width: 32px;\n",
              "    }\n",
              "\n",
              "    .colab-df-convert:hover {\n",
              "      background-color: #E2EBFA;\n",
              "      box-shadow: 0px 1px 2px rgba(60, 64, 67, 0.3), 0px 1px 3px 1px rgba(60, 64, 67, 0.15);\n",
              "      fill: #174EA6;\n",
              "    }\n",
              "\n",
              "    [theme=dark] .colab-df-convert {\n",
              "      background-color: #3B4455;\n",
              "      fill: #D2E3FC;\n",
              "    }\n",
              "\n",
              "    [theme=dark] .colab-df-convert:hover {\n",
              "      background-color: #434B5C;\n",
              "      box-shadow: 0px 1px 3px 1px rgba(0, 0, 0, 0.15);\n",
              "      filter: drop-shadow(0px 1px 2px rgba(0, 0, 0, 0.3));\n",
              "      fill: #FFFFFF;\n",
              "    }\n",
              "  </style>\n",
              "\n",
              "      <script>\n",
              "        const buttonEl =\n",
              "          document.querySelector('#df-a79f199d-9c10-4173-ac1a-28c2b510496d button.colab-df-convert');\n",
              "        buttonEl.style.display =\n",
              "          google.colab.kernel.accessAllowed ? 'block' : 'none';\n",
              "\n",
              "        async function convertToInteractive(key) {\n",
              "          const element = document.querySelector('#df-a79f199d-9c10-4173-ac1a-28c2b510496d');\n",
              "          const dataTable =\n",
              "            await google.colab.kernel.invokeFunction('convertToInteractive',\n",
              "                                                     [key], {});\n",
              "          if (!dataTable) return;\n",
              "\n",
              "          const docLinkHtml = 'Like what you see? Visit the ' +\n",
              "            '<a target=\"_blank\" href=https://colab.research.google.com/notebooks/data_table.ipynb>data table notebook</a>'\n",
              "            + ' to learn more about interactive tables.';\n",
              "          element.innerHTML = '';\n",
              "          dataTable['output_type'] = 'display_data';\n",
              "          await google.colab.output.renderOutput(dataTable, element);\n",
              "          const docLink = document.createElement('div');\n",
              "          docLink.innerHTML = docLinkHtml;\n",
              "          element.appendChild(docLink);\n",
              "        }\n",
              "      </script>\n",
              "    </div>\n",
              "  </div>\n",
              "  "
            ],
            "text/plain": [
              "                                                 tweet  overstatement\n",
              "0    over 90 % of adulthood ale is consumed just re...              1\n",
              "1    another 90 % amount of adulthood intake is jus...              1\n",
              "2    90 % percent of adulthood consumers is just en...              1\n",
              "3    he heard a rumor happen that a baja vista blas...              1\n",
              "4    heard a common rumor that baja energy blast is...              1\n",
              "..                                                 ...            ...\n",
              "862             yo @claires do yall do hysterectomies?              0\n",
              "863  @JacobWohlReport Do I need to aquire a wife be...              0\n",
              "864  I get a lot of boy who cried wolf vibes from t...              0\n",
              "865  Update: holding hands with your mom and walkin...              0\n",
              "866  I might be rubbish at driving, and have a less...              0\n",
              "\n",
              "[987 rows x 2 columns]"
            ]
          },
          "metadata": {},
          "execution_count": 140
        }
      ]
    },
    {
      "cell_type": "markdown",
      "source": [
        "## Data Cleaning"
      ],
      "metadata": {
        "id": "GtXge-wJsHht"
      }
    },
    {
      "cell_type": "code",
      "source": [
        "import re\n",
        "from nltk.corpus import stopwords\n",
        "import nltk\n",
        "import nltk.corpus\n",
        "nltk.download('stopwords')\n",
        "from nltk.corpus import stopwords\n",
        "stop = stopwords.words('english')\n",
        "import string\n",
        "exclude = set(string.punctuation)"
      ],
      "metadata": {
        "id": "5WPA1nM_Nkct",
        "colab": {
          "base_uri": "https://localhost:8080/"
        },
        "outputId": "41f22707-f75d-4929-f0e0-446142971a24"
      },
      "execution_count": null,
      "outputs": [
        {
          "output_type": "stream",
          "name": "stdout",
          "text": [
            "[nltk_data] Downloading package stopwords to /root/nltk_data...\n",
            "[nltk_data]   Package stopwords is already up-to-date!\n"
          ]
        }
      ]
    },
    {
      "cell_type": "code",
      "source": [
        "b = list(df_irony[\"tweet\"])\n",
        "corpus = []\n",
        "for i in range(len(b)):\n",
        "    review =re.sub(r'http\\S+', ' ', str(b[i]))\n",
        "    review = re.sub(\"\\d*\\.\\d+\",\"\",review)\n",
        "    review =re.sub(r'@\\S+', ' ', review)\n",
        "    review = re.sub('\\[[^]]*\\]', ' ', review)\n",
        "    review = review.lower()\n",
        "    corpus.append(review)\n",
        "df_irony = df_irony.assign(clean_tweet2 = corpus)\n",
        "\n",
        "b = list(df_satire[\"tweet\"])\n",
        "corpus = []\n",
        "for i in range(len(b)):\n",
        "    review =re.sub(r'http\\S+', ' ', str(b[i]))\n",
        "    review = re.sub(\"\\d*\\.\\d+\",\"\",review)\n",
        "    review =re.sub(r'@\\S+', ' ', review)\n",
        "    review = re.sub('\\[[^]]*\\]', ' ', review)\n",
        "    review = review.lower()\n",
        "    corpus.append(review)\n",
        "df_satire = df_satire.assign(clean_tweet2 = corpus)\n",
        "\n",
        "b = list(df_understatement[\"tweet\"])\n",
        "corpus = []\n",
        "for i in range(len(b)):\n",
        "    review =re.sub(r'http\\S+', ' ', str(b[i]))\n",
        "    review = re.sub(\"\\d*\\.\\d+\",\"\",review)\n",
        "    review =re.sub(r'@\\S+', ' ', review)\n",
        "    review = re.sub('\\[[^]]*\\]', ' ', review)\n",
        "    review = review.lower()\n",
        "    corpus.append(review)\n",
        "df_understatement = df_understatement.assign(clean_tweet2 = corpus)\n",
        "\n",
        "b = list(df_rhetorical_question[\"tweet\"])\n",
        "corpus = []\n",
        "for i in range(len(b)):\n",
        "    review =re.sub(r'http\\S+', ' ', str(b[i]))\n",
        "    review = re.sub(\"\\d*\\.\\d+\",\"\",review)\n",
        "    review =re.sub(r'@\\S+', ' ', review)\n",
        "    review = re.sub('\\[[^]]*\\]', ' ', review)\n",
        "    review = review.lower()\n",
        "    corpus.append(review)\n",
        "df_rhetorical_question = df_rhetorical_question.assign(clean_tweet2 = corpus)\n",
        "\n",
        "b = list(df_overstatement[\"tweet\"])\n",
        "corpus = []\n",
        "for i in range(len(b)):\n",
        "    review =re.sub(r'http\\S+', ' ', str(b[i]))\n",
        "    review = re.sub(\"\\d*\\.\\d+\",\"\",review)\n",
        "    review =re.sub(r'@\\S+', ' ', review)\n",
        "    review = re.sub('\\[[^]]*\\]', ' ', review)\n",
        "    review = review.lower()\n",
        "    corpus.append(review)\n",
        "df_overstatement = df_overstatement.assign(clean_tweet2 = corpus)"
      ],
      "metadata": {
        "id": "CyFAgIe8_nqC"
      },
      "execution_count": null,
      "outputs": []
    },
    {
      "cell_type": "code",
      "source": [
        "df3_irony = df_irony[[\"clean_tweet2\",\"irony\"]]\n",
        "\n",
        "df3_satire = df_satire[[\"clean_tweet2\",\"satire\"]]\n",
        "\n",
        "df3_understatement = df_understatement[[\"clean_tweet2\",\"understatement\"]]\n",
        "\n",
        "df3_rhetorical_question = df_rhetorical_question[[\"clean_tweet2\",\"rhetorical_question\"]]\n",
        "\n",
        "df3_overstatement = df_overstatement[[\"clean_tweet2\",\"overstatement\"]]\n",
        "\n"
      ],
      "metadata": {
        "id": "utTgmxNk6hxj"
      },
      "execution_count": null,
      "outputs": []
    },
    {
      "cell_type": "code",
      "source": [
        "df3_irony"
      ],
      "metadata": {
        "colab": {
          "base_uri": "https://localhost:8080/",
          "height": 423
        },
        "id": "_L4mFhoenKpA",
        "outputId": "a73fb6a7-3853-4930-c31d-38a886f80291"
      },
      "execution_count": null,
      "outputs": [
        {
          "output_type": "execute_result",
          "data": {
            "text/html": [
              "\n",
              "  <div id=\"df-bedf352f-2719-409a-876a-ce56869f48fe\">\n",
              "    <div class=\"colab-df-container\">\n",
              "      <div>\n",
              "<style scoped>\n",
              "    .dataframe tbody tr th:only-of-type {\n",
              "        vertical-align: middle;\n",
              "    }\n",
              "\n",
              "    .dataframe tbody tr th {\n",
              "        vertical-align: top;\n",
              "    }\n",
              "\n",
              "    .dataframe thead th {\n",
              "        text-align: right;\n",
              "    }\n",
              "</style>\n",
              "<table border=\"1\" class=\"dataframe\">\n",
              "  <thead>\n",
              "    <tr style=\"text-align: right;\">\n",
              "      <th></th>\n",
              "      <th>clean_tweet2</th>\n",
              "      <th>irony</th>\n",
              "    </tr>\n",
              "  </thead>\n",
              "  <tbody>\n",
              "    <tr>\n",
              "      <th>0</th>\n",
              "      <td>the only favorite thing ever i got from junior...</td>\n",
              "      <td>1</td>\n",
              "    </tr>\n",
              "    <tr>\n",
              "      <th>1</th>\n",
              "      <td>the very only lucky thing i got fresh from col...</td>\n",
              "      <td>1</td>\n",
              "    </tr>\n",
              "    <tr>\n",
              "      <th>2</th>\n",
              "      <td>like the absolutely only thing i got from coll...</td>\n",
              "      <td>1</td>\n",
              "    </tr>\n",
              "    <tr>\n",
              "      <th>3</th>\n",
              "      <td>remember the hundred percent emails from compa...</td>\n",
              "      <td>1</td>\n",
              "    </tr>\n",
              "    <tr>\n",
              "      <th>4</th>\n",
              "      <td>remember the hundred emails from companies whe...</td>\n",
              "      <td>1</td>\n",
              "    </tr>\n",
              "    <tr>\n",
              "      <th>...</th>\n",
              "      <td>...</td>\n",
              "      <td>...</td>\n",
              "    </tr>\n",
              "    <tr>\n",
              "      <th>862</th>\n",
              "      <td>yo   do yall do hysterectomies?</td>\n",
              "      <td>0</td>\n",
              "    </tr>\n",
              "    <tr>\n",
              "      <th>863</th>\n",
              "      <td>do i need to aquire a wife before this happe...</td>\n",
              "      <td>0</td>\n",
              "    </tr>\n",
              "    <tr>\n",
              "      <th>864</th>\n",
              "      <td>i get a lot of boy who cried wolf vibes from t...</td>\n",
              "      <td>1</td>\n",
              "    </tr>\n",
              "    <tr>\n",
              "      <th>865</th>\n",
              "      <td>update: holding hands with your mom and walkin...</td>\n",
              "      <td>0</td>\n",
              "    </tr>\n",
              "    <tr>\n",
              "      <th>866</th>\n",
              "      <td>i might be rubbish at driving, and have a less...</td>\n",
              "      <td>0</td>\n",
              "    </tr>\n",
              "  </tbody>\n",
              "</table>\n",
              "<p>1332 rows × 2 columns</p>\n",
              "</div>\n",
              "      <button class=\"colab-df-convert\" onclick=\"convertToInteractive('df-bedf352f-2719-409a-876a-ce56869f48fe')\"\n",
              "              title=\"Convert this dataframe to an interactive table.\"\n",
              "              style=\"display:none;\">\n",
              "        \n",
              "  <svg xmlns=\"http://www.w3.org/2000/svg\" height=\"24px\"viewBox=\"0 0 24 24\"\n",
              "       width=\"24px\">\n",
              "    <path d=\"M0 0h24v24H0V0z\" fill=\"none\"/>\n",
              "    <path d=\"M18.56 5.44l.94 2.06.94-2.06 2.06-.94-2.06-.94-.94-2.06-.94 2.06-2.06.94zm-11 1L8.5 8.5l.94-2.06 2.06-.94-2.06-.94L8.5 2.5l-.94 2.06-2.06.94zm10 10l.94 2.06.94-2.06 2.06-.94-2.06-.94-.94-2.06-.94 2.06-2.06.94z\"/><path d=\"M17.41 7.96l-1.37-1.37c-.4-.4-.92-.59-1.43-.59-.52 0-1.04.2-1.43.59L10.3 9.45l-7.72 7.72c-.78.78-.78 2.05 0 2.83L4 21.41c.39.39.9.59 1.41.59.51 0 1.02-.2 1.41-.59l7.78-7.78 2.81-2.81c.8-.78.8-2.07 0-2.86zM5.41 20L4 18.59l7.72-7.72 1.47 1.35L5.41 20z\"/>\n",
              "  </svg>\n",
              "      </button>\n",
              "      \n",
              "  <style>\n",
              "    .colab-df-container {\n",
              "      display:flex;\n",
              "      flex-wrap:wrap;\n",
              "      gap: 12px;\n",
              "    }\n",
              "\n",
              "    .colab-df-convert {\n",
              "      background-color: #E8F0FE;\n",
              "      border: none;\n",
              "      border-radius: 50%;\n",
              "      cursor: pointer;\n",
              "      display: none;\n",
              "      fill: #1967D2;\n",
              "      height: 32px;\n",
              "      padding: 0 0 0 0;\n",
              "      width: 32px;\n",
              "    }\n",
              "\n",
              "    .colab-df-convert:hover {\n",
              "      background-color: #E2EBFA;\n",
              "      box-shadow: 0px 1px 2px rgba(60, 64, 67, 0.3), 0px 1px 3px 1px rgba(60, 64, 67, 0.15);\n",
              "      fill: #174EA6;\n",
              "    }\n",
              "\n",
              "    [theme=dark] .colab-df-convert {\n",
              "      background-color: #3B4455;\n",
              "      fill: #D2E3FC;\n",
              "    }\n",
              "\n",
              "    [theme=dark] .colab-df-convert:hover {\n",
              "      background-color: #434B5C;\n",
              "      box-shadow: 0px 1px 3px 1px rgba(0, 0, 0, 0.15);\n",
              "      filter: drop-shadow(0px 1px 2px rgba(0, 0, 0, 0.3));\n",
              "      fill: #FFFFFF;\n",
              "    }\n",
              "  </style>\n",
              "\n",
              "      <script>\n",
              "        const buttonEl =\n",
              "          document.querySelector('#df-bedf352f-2719-409a-876a-ce56869f48fe button.colab-df-convert');\n",
              "        buttonEl.style.display =\n",
              "          google.colab.kernel.accessAllowed ? 'block' : 'none';\n",
              "\n",
              "        async function convertToInteractive(key) {\n",
              "          const element = document.querySelector('#df-bedf352f-2719-409a-876a-ce56869f48fe');\n",
              "          const dataTable =\n",
              "            await google.colab.kernel.invokeFunction('convertToInteractive',\n",
              "                                                     [key], {});\n",
              "          if (!dataTable) return;\n",
              "\n",
              "          const docLinkHtml = 'Like what you see? Visit the ' +\n",
              "            '<a target=\"_blank\" href=https://colab.research.google.com/notebooks/data_table.ipynb>data table notebook</a>'\n",
              "            + ' to learn more about interactive tables.';\n",
              "          element.innerHTML = '';\n",
              "          dataTable['output_type'] = 'display_data';\n",
              "          await google.colab.output.renderOutput(dataTable, element);\n",
              "          const docLink = document.createElement('div');\n",
              "          docLink.innerHTML = docLinkHtml;\n",
              "          element.appendChild(docLink);\n",
              "        }\n",
              "      </script>\n",
              "    </div>\n",
              "  </div>\n",
              "  "
            ],
            "text/plain": [
              "                                          clean_tweet2  irony\n",
              "0    the only favorite thing ever i got from junior...      1\n",
              "1    the very only lucky thing i got fresh from col...      1\n",
              "2    like the absolutely only thing i got from coll...      1\n",
              "3    remember the hundred percent emails from compa...      1\n",
              "4    remember the hundred emails from companies whe...      1\n",
              "..                                                 ...    ...\n",
              "862                    yo   do yall do hysterectomies?      0\n",
              "863    do i need to aquire a wife before this happe...      0\n",
              "864  i get a lot of boy who cried wolf vibes from t...      1\n",
              "865  update: holding hands with your mom and walkin...      0\n",
              "866  i might be rubbish at driving, and have a less...      0\n",
              "\n",
              "[1332 rows x 2 columns]"
            ]
          },
          "metadata": {},
          "execution_count": 144
        }
      ]
    },
    {
      "cell_type": "code",
      "source": [
        "df3_irony[\"irony\"].value_counts()"
      ],
      "metadata": {
        "colab": {
          "base_uri": "https://localhost:8080/"
        },
        "id": "ABKxono4nN-w",
        "outputId": "a1659e5b-0995-410e-a2dc-617a5d8850f2"
      },
      "execution_count": null,
      "outputs": [
        {
          "output_type": "execute_result",
          "data": {
            "text/plain": [
              "0    712\n",
              "1    620\n",
              "Name: irony, dtype: int64"
            ]
          },
          "metadata": {},
          "execution_count": 145
        }
      ]
    },
    {
      "cell_type": "markdown",
      "metadata": {
        "id": "ELjswHcFHfp3"
      },
      "source": [
        "## Create tf.data.Datasets for Training and Evaluation"
      ]
    },
    {
      "cell_type": "code",
      "source": [
        "train_irony_df, remaining1 = train_test_split(df3_irony, random_state= 42, train_size= 0.75, stratify=df3_irony.irony.values) \n",
        "test_irony_df, valid_irony_df = train_test_split(remaining1 , random_state= 42, train_size= 0.60, stratify=remaining1.irony.values)\n",
        "\n",
        "train_satire_df, remaining2 = train_test_split(df3_satire, random_state= 42, train_size= 0.75, stratify=df3_satire.satire.values) \n",
        "test_satire_df, valid_satire_df = train_test_split(remaining2 , random_state= 42, train_size= 0.60, stratify=remaining2.satire.values)\n",
        "\n",
        "train_understatement_df, remaining3 = train_test_split(df3_understatement, random_state= 42, train_size= 0.75, stratify=df3_understatement.understatement.values) \n",
        "test_understatement_df, valid_understatement_df = train_test_split(remaining3 , random_state= 42, train_size= 0.60, stratify=remaining3.understatement.values)\n",
        "\n",
        "train_rhetorical_question_df, remaining4 = train_test_split(df3_rhetorical_question, random_state= 42, train_size= 0.75, stratify=df3_rhetorical_question.rhetorical_question.values) \n",
        "test_rhetorical_question_df, valid_rhetorical_question_df = train_test_split(remaining4 , random_state= 42, train_size= 0.60, stratify=remaining4.rhetorical_question.values)\n",
        "\n",
        "train_overstatement_df, remaining5 = train_test_split(df3_overstatement, random_state= 42, train_size= 0.75, stratify=df3_overstatement.overstatement.values) \n",
        "test_overstatement_df, valid_overstatement_df = train_test_split(remaining5 , random_state= 42, train_size= 0.60, stratify=remaining5.overstatement.values)\n"
      ],
      "metadata": {
        "id": "GOVbkSjp7RTT"
      },
      "execution_count": null,
      "outputs": []
    },
    {
      "cell_type": "code",
      "source": [
        "with tf.device('/cpu:0'):\n",
        "  train_irony_data = tf.data.Dataset.from_tensor_slices((train_irony_df['clean_tweet2'].values, train_irony_df['irony'].values))\n",
        "  valid_irony_data = tf.data.Dataset.from_tensor_slices((valid_irony_df.clean_tweet2.values, valid_irony_df.irony.values))\n",
        "\n",
        "  train_satire_data = tf.data.Dataset.from_tensor_slices((train_satire_df['clean_tweet2'].values, train_satire_df['satire'].values))\n",
        "  valid_satire_data = tf.data.Dataset.from_tensor_slices((valid_satire_df.clean_tweet2.values, valid_satire_df.satire.values))\n",
        "\n",
        "  train_understatement_data = tf.data.Dataset.from_tensor_slices((train_understatement_df['clean_tweet2'].values, train_understatement_df['understatement'].values))\n",
        "  valid_understatement_data = tf.data.Dataset.from_tensor_slices((valid_understatement_df.clean_tweet2.values, valid_understatement_df.understatement.values))\n",
        "\n",
        "  train_rhetorical_question_data = tf.data.Dataset.from_tensor_slices((train_rhetorical_question_df['clean_tweet2'].values, train_rhetorical_question_df['rhetorical_question'].values))\n",
        "  valid_rhetorical_question_data = tf.data.Dataset.from_tensor_slices((valid_rhetorical_question_df.clean_tweet2.values, valid_rhetorical_question_df.rhetorical_question.values))\n",
        "\n",
        "\n",
        "  train_overstatement_data = tf.data.Dataset.from_tensor_slices((train_overstatement_df['clean_tweet2'].values, train_overstatement_df['overstatement'].values))\n",
        "  valid_overstatement_data = tf.data.Dataset.from_tensor_slices((valid_overstatement_df.clean_tweet2.values, valid_overstatement_df.overstatement.values))\n",
        "\n",
        "  \n",
        "  for text, label in train_irony_data.take(1):\n",
        "    print(text)\n",
        "    print(label)\n",
        "  for text, label in train_satire_data.take(1):\n",
        "    print(text)\n",
        "    print(label)\n",
        "  for text, label in train_understatement_data.take(1):\n",
        "    print(text)\n",
        "    print(label)\n",
        "  for text, label in train_rhetorical_question_data.take(1):\n",
        "    print(text)\n",
        "    print(label)\n",
        "  for text, label in train_overstatement_data.take(1):\n",
        "    print(text)\n",
        "    print(label)"
      ],
      "metadata": {
        "colab": {
          "base_uri": "https://localhost:8080/"
        },
        "id": "dPMAEDPk8Gdj",
        "outputId": "1981bb43-05a6-402b-c0ba-bbd333a00a4c"
      },
      "execution_count": null,
      "outputs": [
        {
          "output_type": "stream",
          "name": "stdout",
          "text": [
            "tf.Tensor(b'oh you\\xe2\\x80\\x99re just friends?\\r\\n\\r\\nwhy\\xe2\\x80\\x99d u shave then?', shape=(), dtype=string)\n",
            "tf.Tensor(0, shape=(), dtype=int64)\n",
            "tf.Tensor(b\"@ inkofreality @ the strangertings1 @ nytimes 1 you're so goddamn close back to their understanding using baseline biasing. you never can even get outta there, i believe in being you!\", shape=(), dtype=string)\n",
            "tf.Tensor(1, shape=(), dtype=int64)\n",
            "tf.Tensor(b\"gosh sunderland twitter is a fun place to be tonight isn't it. one game. one game!!!\", shape=(), dtype=string)\n",
            "tf.Tensor(0, shape=(), dtype=int64)\n",
            "tf.Tensor(b'its 3 30 am and i have decided the only redeeming quality of a male is that i can put my freezing cold toes on him and leach his warmth', shape=(), dtype=string)\n",
            "tf.Tensor(0, shape=(), dtype=int64)\n",
            "tf.Tensor(b'going to be running on three hours of sleep at work tonight! so excited!!!', shape=(), dtype=string)\n",
            "tf.Tensor(0, shape=(), dtype=int64)\n"
          ]
        }
      ]
    },
    {
      "cell_type": "markdown",
      "metadata": {
        "id": "e2-ReN88Hvy_"
      },
      "source": [
        "##  Download a Pre-trained BERT Model from TensorFlow Hub"
      ]
    },
    {
      "cell_type": "code",
      "metadata": {
        "id": "EMb5M86b4-BU"
      },
      "source": [
        "\"\"\"\n",
        "Each line of the dataset is composed of the tweet and its label\n",
        "- Data preprocessing consists of transforming text to BERT input features:\n",
        "input_word_ids, input_mask, segment_ids\n",
        "- In the process, tokenizing the text is done with the provided BERT model tokenizer\n",
        "\"\"\"\n",
        "\n",
        "label_list = [0,1] #  Label categories\n",
        "max_seq_length = 120 # maximum length of (token) input sequences\n",
        "train_batch_size = 32\n",
        "\n",
        "# Get BERT layer and tokenizer:\n",
        "# More details here: https://tfhub.dev/tensorflow/bert_en_uncased_L-12_H-768_A-12/2\n",
        "bert_layer = hub.KerasLayer('https://tfhub.dev/tensorflow/bert_en_uncased_L-12_H-768_A-12/2', trainable = True)\n",
        "vocab_file = bert_layer.resolved_object.vocab_file.asset_path.numpy()\n",
        "do_lower_case =bert_layer.resolved_object.do_lower_case.numpy()\n",
        "tokenizer = tokenization.FullTokenizer(vocab_file, do_lower_case)\n"
      ],
      "execution_count": null,
      "outputs": []
    },
    {
      "cell_type": "code",
      "metadata": {
        "id": "wEUezMK-zkkI",
        "colab": {
          "base_uri": "https://localhost:8080/"
        },
        "outputId": "077b4a71-9017-49cb-a717-c999b8bd42ab"
      },
      "source": [
        "tokenizer.wordpiece_tokenizer.tokenize(\"hi, Uday what are doing?\")  # tokenizer testing"
      ],
      "execution_count": null,
      "outputs": [
        {
          "output_type": "execute_result",
          "data": {
            "text/plain": [
              "['hi', '##,', '[UNK]', 'what', 'are', 'doing', '##?']"
            ]
          },
          "metadata": {},
          "execution_count": 149
        }
      ]
    },
    {
      "cell_type": "code",
      "metadata": {
        "id": "5AFsmTO5JSmc",
        "colab": {
          "base_uri": "https://localhost:8080/"
        },
        "outputId": "e8c2e75d-67d7-467c-893f-b9c8f3ce615a"
      },
      "source": [
        "tokenizer.convert_tokens_to_ids(tokenizer.wordpiece_tokenizer.tokenize(\"hi, Uday what are doing?\"))"
      ],
      "execution_count": null,
      "outputs": [
        {
          "output_type": "execute_result",
          "data": {
            "text/plain": [
              "[7632, 29623, 100, 2054, 2024, 2725, 29632]"
            ]
          },
          "metadata": {},
          "execution_count": 150
        }
      ]
    },
    {
      "cell_type": "code",
      "metadata": {
        "id": "m-21A5aNJM0W"
      },
      "source": [
        "# This provides a function to convert row to input features and label\n",
        "\n",
        "def to_feature(text, label, label_list=label_list, max_seq_length=max_seq_length, tokenizer=tokenizer):\n",
        "  example = classifier_data_lib.InputExample(guid = None,\n",
        "                                             text_a = text.numpy(),\n",
        "                                             text_b = None,\n",
        "                                             label = label.numpy()) # guid gives unqui id but we are working one example at time so its is  and we use text.numpy because text is in tensor so to get value of it we use np\n",
        "                                             # and we are doing only sentence classification so be but text_b equal to none but if it is next sentence prediction it would be different\n",
        "  # Now we have to convert this example into features \n",
        "  features = classifier_data_lib.convert_single_example(0, example, label_list,max_seq_length, tokenizer) # 0 is the index of first example\n",
        "\n",
        "  return (features.input_ids, features.input_mask, features.segment_ids, features.label_id) # below text is important plz read carefully \n",
        "  "
      ],
      "execution_count": null,
      "outputs": []
    },
    {
      "cell_type": "code",
      "metadata": {
        "id": "AGACBcfCWC2O"
      },
      "source": [
        "def to_feature_map(text, label):\n",
        "  input_ids, input_mask, segment_ids, label_id = tf.py_function(to_feature, inp=[text, label],\n",
        "                                                                Tout =[tf.int32,tf.int32,tf.int32,tf.int32]) # Tout is tensor output\n",
        "  # but here issue is this function wrapper doesn't set shape of return tensor but we don't need the shape of label tensor. So we will set the shape of this tensor\n",
        "  input_ids.set_shape([max_seq_length])\n",
        "  input_mask.set_shape([max_seq_length])\n",
        "  segment_ids.set_shape([max_seq_length])\n",
        "  label_id.set_shape([]) # because we don't know that shape of label may be in multiclassification it can be more than 2\n",
        "\n",
        "  x = {\n",
        "      \"input_word_ids\" : input_ids,\n",
        "       \"input_mask\" : input_mask,\n",
        "       \"input_type_ids\" : segment_ids\n",
        "  }\n",
        "\n",
        "  return (x, label_id)\n",
        "  "
      ],
      "execution_count": null,
      "outputs": []
    },
    {
      "cell_type": "markdown",
      "metadata": {
        "id": "dhdO6MjTbtn1"
      },
      "source": [
        "##  Create a TensorFlow Input Pipeline with `tf.data`"
      ]
    },
    {
      "cell_type": "code",
      "metadata": {
        "id": "LHRdiO3dnPNr"
      },
      "source": [
        "with tf.device('/cpu:0'):\n",
        "  # train              \n",
        "  train_irony_data = (train_irony_data.map(to_feature_map,\n",
        "                               num_parallel_calls = tf.data.experimental.AUTOTUNE).shuffle(1000).batch(32, drop_remainder = True).prefetch(tf.data.experimental.AUTOTUNE))  \n",
        "  # valid\n",
        "  valid_irony_data = (valid_irony_data.map(to_feature_map,\n",
        "                               num_parallel_calls = tf.data.experimental.AUTOTUNE).batch(32, drop_remainder = True).prefetch(tf.data.experimental.AUTOTUNE))\n",
        "  # train              \n",
        "  train_satire_data = (train_satire_data.map(to_feature_map,\n",
        "                               num_parallel_calls = tf.data.experimental.AUTOTUNE).shuffle(1000).batch(32, drop_remainder = True).prefetch(tf.data.experimental.AUTOTUNE))  \n",
        "  # valid\n",
        "  valid_satire_data = (valid_satire_data.map(to_feature_map,\n",
        "                               num_parallel_calls = tf.data.experimental.AUTOTUNE).batch(32, drop_remainder = True).prefetch(tf.data.experimental.AUTOTUNE))\n",
        "  \n",
        "  # train              \n",
        "  train_understatement_data = (train_understatement_data.map(to_feature_map,\n",
        "                               num_parallel_calls = tf.data.experimental.AUTOTUNE).shuffle(1000).batch(32, drop_remainder = True).prefetch(tf.data.experimental.AUTOTUNE))  \n",
        "  # valid\n",
        "  valid_understatement_data = (valid_understatement_data.map(to_feature_map,\n",
        "                               num_parallel_calls = tf.data.experimental.AUTOTUNE).batch(32, drop_remainder = True).prefetch(tf.data.experimental.AUTOTUNE))\n",
        "  \n",
        "  # train              \n",
        "  train_rhetorical_question_data = (train_rhetorical_question_data.map(to_feature_map,\n",
        "                               num_parallel_calls = tf.data.experimental.AUTOTUNE).shuffle(1000).batch(32, drop_remainder = True).prefetch(tf.data.experimental.AUTOTUNE))  \n",
        "  # valid\n",
        "  valid_rhetorical_question_data = (valid_rhetorical_question_data.map(to_feature_map,\n",
        "                               num_parallel_calls = tf.data.experimental.AUTOTUNE).batch(32, drop_remainder = True).prefetch(tf.data.experimental.AUTOTUNE))\n",
        "  \n",
        "  # train              \n",
        "  train_overstatement_data = (train_overstatement_data.map(to_feature_map,\n",
        "                               num_parallel_calls = tf.data.experimental.AUTOTUNE).shuffle(1000).batch(32, drop_remainder = True).prefetch(tf.data.experimental.AUTOTUNE))  \n",
        "  # valid\n",
        "  valid_overstatement_data = (valid_overstatement_data.map(to_feature_map,\n",
        "                               num_parallel_calls = tf.data.experimental.AUTOTUNE).batch(32, drop_remainder = True).prefetch(tf.data.experimental.AUTOTUNE))\n",
        "  "
      ],
      "execution_count": null,
      "outputs": []
    },
    {
      "cell_type": "code",
      "metadata": {
        "id": "B0Z2cy9GHQ8x",
        "colab": {
          "base_uri": "https://localhost:8080/"
        },
        "outputId": "0542ec85-2de1-444a-f628-39993a907238"
      },
      "source": [
        "# train data spec\n",
        "train_irony_data.element_spec"
      ],
      "execution_count": null,
      "outputs": [
        {
          "output_type": "execute_result",
          "data": {
            "text/plain": [
              "({'input_mask': TensorSpec(shape=(32, 120), dtype=tf.int32, name=None),\n",
              "  'input_type_ids': TensorSpec(shape=(32, 120), dtype=tf.int32, name=None),\n",
              "  'input_word_ids': TensorSpec(shape=(32, 120), dtype=tf.int32, name=None)},\n",
              " TensorSpec(shape=(32,), dtype=tf.int32, name=None))"
            ]
          },
          "metadata": {},
          "execution_count": 154
        }
      ]
    },
    {
      "cell_type": "code",
      "metadata": {
        "id": "DGAH-ycYOmao",
        "colab": {
          "base_uri": "https://localhost:8080/"
        },
        "outputId": "4c73345f-ddd0-4fa2-9d49-e3cc753d4c30"
      },
      "source": [
        "# valid data spec\n",
        "valid_irony_data.element_spec"
      ],
      "execution_count": null,
      "outputs": [
        {
          "output_type": "execute_result",
          "data": {
            "text/plain": [
              "({'input_mask': TensorSpec(shape=(32, 120), dtype=tf.int32, name=None),\n",
              "  'input_type_ids': TensorSpec(shape=(32, 120), dtype=tf.int32, name=None),\n",
              "  'input_word_ids': TensorSpec(shape=(32, 120), dtype=tf.int32, name=None)},\n",
              " TensorSpec(shape=(32,), dtype=tf.int32, name=None))"
            ]
          },
          "metadata": {},
          "execution_count": 155
        }
      ]
    },
    {
      "cell_type": "markdown",
      "metadata": {
        "id": "GZxe-7yhPyQe"
      },
      "source": [
        " ## Add a Classification Head to the BERT Layer"
      ]
    },
    {
      "cell_type": "code",
      "metadata": {
        "id": "G9il4gtlADcp"
      },
      "source": [
        "# Building the model\n",
        "def create_model():\n",
        "  input_word_ids = tf.keras.layers.Input(shape=(max_seq_length,), dtype=tf.int32,\n",
        "                                       name=\"input_word_ids\")\n",
        "  input_mask = tf.keras.layers.Input(shape=(max_seq_length,), dtype=tf.int32,\n",
        "                                   name=\"input_mask\")\n",
        "  input_type_ids = tf.keras.layers.Input(shape=(max_seq_length,), dtype=tf.int32,\n",
        "                                    name=\"input_type_ids\")\n",
        "  \n",
        "  pooled_output, sequence_output = bert_layer([input_word_ids, input_mask, input_type_ids])\n",
        "  drop = tf.keras.layers.Dropout(0.4)(pooled_output)\n",
        "  output = tf.keras.layers.Dense(1,activation=\"sigmoid\", name=\"output\")  (drop)\n",
        "\n",
        "  model = tf.keras.Model(\n",
        "      inputs= {\n",
        "          \"input_word_ids\" : input_word_ids,\n",
        "          \"input_mask\" : input_mask,\n",
        "          \"input_type_ids\" : input_type_ids\n",
        "      },\n",
        "      outputs = output)\n",
        "  return model"
      ],
      "execution_count": null,
      "outputs": []
    },
    {
      "cell_type": "markdown",
      "metadata": {
        "id": "S6maM-vr7YaJ"
      },
      "source": [
        "##  Fine-Tune BERT for Text Classification"
      ]
    },
    {
      "cell_type": "code",
      "metadata": {
        "id": "ptCtiiONsBgo"
      },
      "source": [
        "model_irony = create_model()\n",
        "model_satire = create_model()\n",
        "model_understatement = create_model()\n",
        "model_rhetorical_question = create_model()\n",
        "model_overstatement = create_model()\n",
        "\n",
        "model_irony.compile(optimizer=tf.keras.optimizers.Adam(learning_rate=2e-5),\n",
        "              loss=tf.keras.losses.BinaryCrossentropy(),\n",
        "              metrics=[tf.keras.metrics.BinaryAccuracy()])\n",
        "model_satire.compile(optimizer=tf.keras.optimizers.Adam(learning_rate=2e-5),\n",
        "              loss=tf.keras.losses.BinaryCrossentropy(),\n",
        "              metrics=[tf.keras.metrics.BinaryAccuracy()])\n",
        "model_understatement.compile(optimizer=tf.keras.optimizers.Adam(learning_rate=2e-5),\n",
        "              loss=tf.keras.losses.BinaryCrossentropy(),\n",
        "              metrics=[tf.keras.metrics.BinaryAccuracy()])\n",
        "model_rhetorical_question.compile(optimizer=tf.keras.optimizers.Adam(learning_rate=2e-5),\n",
        "              loss=tf.keras.losses.BinaryCrossentropy(),\n",
        "              metrics=[tf.keras.metrics.BinaryAccuracy()])\n",
        "model_overstatement.compile(optimizer=tf.keras.optimizers.Adam(learning_rate=2e-5),\n",
        "              loss=tf.keras.losses.BinaryCrossentropy(),\n",
        "              metrics=[tf.keras.metrics.BinaryAccuracy()])\n",
        "\n"
      ],
      "execution_count": null,
      "outputs": []
    },
    {
      "cell_type": "code",
      "metadata": {
        "id": "6GJaFnkbMtPL",
        "colab": {
          "base_uri": "https://localhost:8080/",
          "height": 338
        },
        "outputId": "d0f41843-aad9-4434-d559-f1f0d0b585e1"
      },
      "source": [
        "tf.keras.utils.plot_model(model=model_overstatement, show_shapes=True, dpi = 76) # by default dpi is 96 , result show layer is single layer"
      ],
      "execution_count": null,
      "outputs": [
        {
          "output_type": "execute_result",
          "data": {
            "image/png": "[encoded data removed]",
            "text/plain": [
              "<IPython.core.display.Image object>"
            ]
          },
          "metadata": {},
          "execution_count": 158
        }
      ]
    },
    {
      "cell_type": "code",
      "metadata": {
        "id": "OcREcgPUHr9O",
        "colab": {
          "base_uri": "https://localhost:8080/"
        },
        "outputId": "7fb34e18-53ca-487f-f00d-8e893544bb1a"
      },
      "source": [
        "# Train model\n",
        "epochs = 3 # after 2 this start overfitting\n",
        "history1 = model_irony.fit(train_irony_data, validation_data=valid_irony_data, epochs=epochs, verbose=1)\n",
        "history2 = model_satire.fit(train_satire_data, validation_data=valid_satire_data, epochs=epochs, verbose=1)\n",
        "history3 = model_understatement.fit(train_understatement_data, validation_data=valid_understatement_data, epochs=epochs, verbose=1)\n",
        "history4 = model_rhetorical_question.fit(train_rhetorical_question_data, validation_data=valid_rhetorical_question_data, epochs=epochs, verbose=1)\n",
        "history5 = model_overstatement.fit(train_overstatement_data, validation_data=valid_overstatement_data, epochs=epochs, verbose=1)"
      ],
      "execution_count": null,
      "outputs": [
        {
          "output_type": "stream",
          "name": "stdout",
          "text": [
            "Epoch 1/3\n",
            "31/31 [==============================] - ETA: 0s - loss: 0.0930 - binary_accuracy: 0.9637WARNING:tensorflow:Callbacks method `on_test_batch_end` is slow compared to the batch time (batch time: 0.0121s vs `on_test_batch_end` time: 0.1368s). Check your callbacks.\n"
          ]
        },
        {
          "output_type": "stream",
          "name": "stderr",
          "text": [
            "WARNING:tensorflow:Callbacks method `on_test_batch_end` is slow compared to the batch time (batch time: 0.0121s vs `on_test_batch_end` time: 0.1368s). Check your callbacks.\n"
          ]
        },
        {
          "output_type": "stream",
          "name": "stdout",
          "text": [
            "\b\b\b\b\b\b\b\b\b\b\b\b\b\b\b\b\b\b\b\b\b\b\b\b\b\b\b\b\b\b\b\b\b\b\b\b\b\b\b\b\b\b\b\b\b\b\b\b\b\b\b\b\b\b\b\b\b\b\b\b\b\b\b\b\b\b\b\b\b\b\b\b\b\b\b\b\b\b\b\b\b\b\b\b\b\b\b\b\b\r31/31 [==============================] - 14s 463ms/step - loss: 0.0930 - binary_accuracy: 0.9637 - val_loss: 0.4119 - val_binary_accuracy: 0.8828\n",
            "Epoch 2/3\n",
            "31/31 [==============================] - 14s 462ms/step - loss: 0.0038 - binary_accuracy: 1.0000 - val_loss: 0.4040 - val_binary_accuracy: 0.9062\n",
            "Epoch 3/3\n",
            "31/31 [==============================] - 14s 462ms/step - loss: 0.0024 - binary_accuracy: 1.0000 - val_loss: 0.3613 - val_binary_accuracy: 0.8906\n",
            "Epoch 1/3\n",
            "22/22 [==============================] - ETA: 0s - loss: 0.0244 - binary_accuracy: 0.9957WARNING:tensorflow:Callbacks method `on_test_batch_end` is slow compared to the batch time (batch time: 0.0131s vs `on_test_batch_end` time: 0.1346s). Check your callbacks.\n"
          ]
        },
        {
          "output_type": "stream",
          "name": "stderr",
          "text": [
            "WARNING:tensorflow:Callbacks method `on_test_batch_end` is slow compared to the batch time (batch time: 0.0131s vs `on_test_batch_end` time: 0.1346s). Check your callbacks.\n"
          ]
        },
        {
          "output_type": "stream",
          "name": "stdout",
          "text": [
            "\b\b\b\b\b\b\b\b\b\b\b\b\b\b\b\b\b\b\b\b\b\b\b\b\b\b\b\b\b\b\b\b\b\b\b\b\b\b\b\b\b\b\b\b\b\b\b\b\b\b\b\b\b\b\b\b\b\b\b\b\b\b\b\b\b\b\b\b\b\b\b\b\b\b\b\b\b\b\b\b\b\b\b\b\b\b\b\b\b\r22/22 [==============================] - 10s 454ms/step - loss: 0.0244 - binary_accuracy: 0.9957 - val_loss: 0.0020 - val_binary_accuracy: 1.0000\n",
            "Epoch 2/3\n",
            "22/22 [==============================] - 10s 453ms/step - loss: 0.0032 - binary_accuracy: 1.0000 - val_loss: 0.0026 - val_binary_accuracy: 1.0000\n",
            "Epoch 3/3\n",
            "22/22 [==============================] - 10s 453ms/step - loss: 0.0019 - binary_accuracy: 1.0000 - val_loss: 0.0016 - val_binary_accuracy: 1.0000\n",
            "Epoch 1/3\n",
            "21/21 [==============================] - ETA: 0s - loss: 0.0132 - binary_accuracy: 0.9955WARNING:tensorflow:Callbacks method `on_test_batch_end` is slow compared to the batch time (batch time: 0.0099s vs `on_test_batch_end` time: 0.1375s). Check your callbacks.\n"
          ]
        },
        {
          "output_type": "stream",
          "name": "stderr",
          "text": [
            "WARNING:tensorflow:Callbacks method `on_test_batch_end` is slow compared to the batch time (batch time: 0.0099s vs `on_test_batch_end` time: 0.1375s). Check your callbacks.\n"
          ]
        },
        {
          "output_type": "stream",
          "name": "stdout",
          "text": [
            "\b\b\b\b\b\b\b\b\b\b\b\b\b\b\b\b\b\b\b\b\b\b\b\b\b\b\b\b\b\b\b\b\b\b\b\b\b\b\b\b\b\b\b\b\b\b\b\b\b\b\b\b\b\b\b\b\b\b\b\b\b\b\b\b\b\b\b\b\b\b\b\b\b\b\b\b\b\b\b\b\b\b\b\b\b\b\b\b\b\r21/21 [==============================] - 10s 454ms/step - loss: 0.0132 - binary_accuracy: 0.9955 - val_loss: 0.0925 - val_binary_accuracy: 0.9844\n",
            "Epoch 2/3\n",
            "21/21 [==============================] - 10s 454ms/step - loss: 0.0030 - binary_accuracy: 1.0000 - val_loss: 0.0973 - val_binary_accuracy: 0.9844\n",
            "Epoch 3/3\n",
            "21/21 [==============================] - 10s 454ms/step - loss: 0.0012 - binary_accuracy: 1.0000 - val_loss: 0.1013 - val_binary_accuracy: 0.9844\n",
            "Epoch 1/3\n",
            "27/27 [==============================] - ETA: 0s - loss: 0.0274 - binary_accuracy: 0.9988WARNING:tensorflow:Callbacks method `on_test_batch_end` is slow compared to the batch time (batch time: 0.0098s vs `on_test_batch_end` time: 0.1371s). Check your callbacks.\n"
          ]
        },
        {
          "output_type": "stream",
          "name": "stderr",
          "text": [
            "WARNING:tensorflow:Callbacks method `on_test_batch_end` is slow compared to the batch time (batch time: 0.0098s vs `on_test_batch_end` time: 0.1371s). Check your callbacks.\n"
          ]
        },
        {
          "output_type": "stream",
          "name": "stdout",
          "text": [
            "\b\b\b\b\b\b\b\b\b\b\b\b\b\b\b\b\b\b\b\b\b\b\b\b\b\b\b\b\b\b\b\b\b\b\b\b\b\b\b\b\b\b\b\b\b\b\b\b\b\b\b\b\b\b\b\b\b\b\b\b\b\b\b\b\b\b\b\b\b\b\b\b\b\b\b\b\b\b\b\b\b\b\b\b\b\b\b\b\b\r27/27 [==============================] - 12s 459ms/step - loss: 0.0274 - binary_accuracy: 0.9988 - val_loss: 0.2451 - val_binary_accuracy: 0.9062\n",
            "Epoch 2/3\n",
            "27/27 [==============================] - 12s 459ms/step - loss: 0.0038 - binary_accuracy: 0.9988 - val_loss: 0.2547 - val_binary_accuracy: 0.9167\n",
            "Epoch 3/3\n",
            "27/27 [==============================] - 12s 458ms/step - loss: 0.0019 - binary_accuracy: 1.0000 - val_loss: 0.2797 - val_binary_accuracy: 0.9271\n",
            "Epoch 1/3\n",
            "23/23 [==============================] - ETA: 0s - loss: 0.0167 - binary_accuracy: 0.9973WARNING:tensorflow:Callbacks method `on_test_batch_end` is slow compared to the batch time (batch time: 0.0101s vs `on_test_batch_end` time: 0.1371s). Check your callbacks.\n"
          ]
        },
        {
          "output_type": "stream",
          "name": "stderr",
          "text": [
            "WARNING:tensorflow:Callbacks method `on_test_batch_end` is slow compared to the batch time (batch time: 0.0101s vs `on_test_batch_end` time: 0.1371s). Check your callbacks.\n"
          ]
        },
        {
          "output_type": "stream",
          "name": "stdout",
          "text": [
            "\b\b\b\b\b\b\b\b\b\b\b\b\b\b\b\b\b\b\b\b\b\b\b\b\b\b\b\b\b\b\b\b\b\b\b\b\b\b\b\b\b\b\b\b\b\b\b\b\b\b\b\b\b\b\b\b\b\b\b\b\b\b\b\b\b\b\b\b\b\b\b\b\b\b\b\b\b\b\b\b\b\b\b\b\b\b\b\b\b\r23/23 [==============================] - 11s 460ms/step - loss: 0.0167 - binary_accuracy: 0.9973 - val_loss: 0.2866 - val_binary_accuracy: 0.9271\n",
            "Epoch 2/3\n",
            "23/23 [==============================] - 11s 459ms/step - loss: 0.0035 - binary_accuracy: 1.0000 - val_loss: 0.3993 - val_binary_accuracy: 0.9375\n",
            "Epoch 3/3\n",
            "23/23 [==============================] - 11s 460ms/step - loss: 0.0014 - binary_accuracy: 1.0000 - val_loss: 0.3481 - val_binary_accuracy: 0.9375\n"
          ]
        }
      ]
    },
    {
      "cell_type": "markdown",
      "metadata": {
        "id": "kNZl1lx_cA5Y"
      },
      "source": [
        "## Evaluate the BERT Text Classification Model for each category"
      ]
    },
    {
      "cell_type": "code",
      "source": [
        "from sklearn.metrics import classification_report\n",
        "from sklearn.metrics import f1_score"
      ],
      "metadata": {
        "id": "ie4-WW6-WuXd"
      },
      "execution_count": null,
      "outputs": []
    },
    {
      "cell_type": "code",
      "source": [
        "pred_list = test_irony_df.clean_tweet2.values\n",
        "true_labels = test_irony_df['irony'].tolist()\n",
        "# sample_example =   [\"Why don't Algerian Jews go back to Algeria?\",\"Are Palestinians on Quora anti-Semitic?\t\",\"What is Brandy Greene known for?\t\",\"Why are you not dying\",\"Schools should be banned, right? \",\"Where is India in World map?\"]\n",
        "test_data = tf.data.Dataset.from_tensor_slices((pred_list, [0]*len(pred_list))) \n",
        "test_data = (test_data.map(to_feature_map).batch(1))\n",
        "preds = model_irony.predict(test_data)\n",
        "threshold = 0.5 # between 0 and 1\n",
        "prediction = [ 1 if pred>threshold else 0 for pred in preds]\n",
        "print(prediction.count(1))\n",
        "print(len(prediction))\n",
        "print(classification_report(true_labels, prediction))\n",
        "f1_score(true_labels, prediction, average='macro')"
      ],
      "metadata": {
        "id": "aUh7TUmgXgPg",
        "colab": {
          "base_uri": "https://localhost:8080/"
        },
        "outputId": "764d220d-eb66-40eb-cece-5d9199994c83"
      },
      "execution_count": null,
      "outputs": [
        {
          "output_type": "stream",
          "name": "stdout",
          "text": [
            "83\n",
            "199\n",
            "              precision    recall  f1-score   support\n",
            "\n",
            "           0       0.86      0.94      0.90       106\n",
            "           1       0.93      0.83      0.87        93\n",
            "\n",
            "    accuracy                           0.89       199\n",
            "   macro avg       0.89      0.89      0.89       199\n",
            "weighted avg       0.89      0.89      0.89       199\n",
            "\n"
          ]
        },
        {
          "output_type": "execute_result",
          "data": {
            "text/plain": [
              "0.8879504504504504"
            ]
          },
          "metadata": {},
          "execution_count": 214
        }
      ]
    },
    {
      "cell_type": "code",
      "source": [
        "pred_list = test_satire_df.clean_tweet2.values\n",
        "true_labels = test_satire_df['satire'].tolist()\n",
        "# sample_example =   [\"Why don't Algerian Jews go back to Algeria?\",\"Are Palestinians on Quora anti-Semitic?\t\",\"What is Brandy Greene known for?\t\",\"Why are you not dying\",\"Schools should be banned, right? \",\"Where is India in World map?\"]\n",
        "test_data = tf.data.Dataset.from_tensor_slices((pred_list, [0]*len(pred_list))) \n",
        "test_data = (test_data.map(to_feature_map).batch(1))\n",
        "preds = model_satire.predict(test_data)\n",
        "threshold = 0.5 # between 0 and 1\n",
        "prediction = [ 1 if pred>threshold else 0 for pred in preds]\n",
        "print(prediction.count(1))\n",
        "print(len(prediction))\n",
        "print(classification_report(true_labels, prediction))\n",
        "f1_score(true_labels, prediction, average='macro')"
      ],
      "metadata": {
        "id": "Je_k8NqiXis_",
        "colab": {
          "base_uri": "https://localhost:8080/"
        },
        "outputId": "691b1c39-d3bf-40ac-948d-2b91648af9b1"
      },
      "execution_count": null,
      "outputs": [
        {
          "output_type": "stream",
          "name": "stdout",
          "text": [
            "13\n",
            "141\n",
            "              precision    recall  f1-score   support\n",
            "\n",
            "           0       0.98      1.00      0.99       126\n",
            "           1       1.00      0.87      0.93        15\n",
            "\n",
            "    accuracy                           0.99       141\n",
            "   macro avg       0.99      0.93      0.96       141\n",
            "weighted avg       0.99      0.99      0.99       141\n",
            "\n"
          ]
        },
        {
          "output_type": "execute_result",
          "data": {
            "text/plain": [
              "0.9603487064116986"
            ]
          },
          "metadata": {},
          "execution_count": 215
        }
      ]
    },
    {
      "cell_type": "code",
      "source": [
        "pred_list = test_understatement_df.clean_tweet2.values\n",
        "true_labels = test_understatement_df['understatement'].tolist()\n",
        "# sample_example =   [\"Why don't Algerian Jews go back to Algeria?\",\"Are Palestinians on Quora anti-Semitic?\t\",\"What is Brandy Greene known for?\t\",\"Why are you not dying\",\"Schools should be banned, right? \",\"Where is India in World map?\"]\n",
        "test_data = tf.data.Dataset.from_tensor_slices((pred_list, [0]*len(pred_list))) \n",
        "test_data = (test_data.map(to_feature_map).batch(1))\n",
        "preds = model_understatement.predict(test_data)\n",
        "threshold = 0.5 # between 0 and 1\n",
        "prediction = [ 1 if pred>threshold else 0 for pred in preds]\n",
        "print(prediction.count(1))\n",
        "print(len(prediction))\n",
        "print(classification_report(true_labels, prediction))\n",
        "f1_score(true_labels, prediction, average='macro')"
      ],
      "metadata": {
        "id": "Niw2aUT-Xj4U",
        "colab": {
          "base_uri": "https://localhost:8080/"
        },
        "outputId": "7ca68752-31c0-4ee1-d199-3756ade9bb16"
      },
      "execution_count": null,
      "outputs": [
        {
          "output_type": "stream",
          "name": "stdout",
          "text": [
            "6\n",
            "135\n",
            "              precision    recall  f1-score   support\n",
            "\n",
            "           0       1.00      1.00      1.00       129\n",
            "           1       1.00      1.00      1.00         6\n",
            "\n",
            "    accuracy                           1.00       135\n",
            "   macro avg       1.00      1.00      1.00       135\n",
            "weighted avg       1.00      1.00      1.00       135\n",
            "\n"
          ]
        },
        {
          "output_type": "execute_result",
          "data": {
            "text/plain": [
              "1.0"
            ]
          },
          "metadata": {},
          "execution_count": 216
        }
      ]
    },
    {
      "cell_type": "code",
      "source": [
        "pred_list = test_rhetorical_question_df.clean_tweet2.values\n",
        "true_labels = test_rhetorical_question_df['rhetorical_question'].tolist()\n",
        "# sample_example =   [\"Why don't Algerian Jews go back to Algeria?\",\"Are Palestinians on Quora anti-Semitic?\t\",\"What is Brandy Greene known for?\t\",\"Why are you not dying\",\"Schools should be banned, right? \",\"Where is India in World map?\"]\n",
        "test_data = tf.data.Dataset.from_tensor_slices((pred_list, [0]*len(pred_list))) \n",
        "test_data = (test_data.map(to_feature_map).batch(1))\n",
        "preds = model_rhetorical_question.predict(test_data)\n",
        "threshold = 0.5 # between 0 and 1\n",
        "prediction = [ 1 if pred>threshold else 0 for pred in preds]\n",
        "print(prediction.count(1))\n",
        "print(len(prediction))\n",
        "print(classification_report(true_labels, prediction))\n",
        "f1_score(true_labels, prediction, average='macro')"
      ],
      "metadata": {
        "id": "4xiMIhupXk7M",
        "colab": {
          "base_uri": "https://localhost:8080/"
        },
        "outputId": "2badc261-c612-480f-a383-29c520fa13bc"
      },
      "execution_count": null,
      "outputs": [
        {
          "output_type": "stream",
          "name": "stdout",
          "text": [
            "62\n",
            "175\n",
            "              precision    recall  f1-score   support\n",
            "\n",
            "           0       0.96      0.95      0.96       115\n",
            "           1       0.90      0.93      0.92        60\n",
            "\n",
            "    accuracy                           0.94       175\n",
            "   macro avg       0.93      0.94      0.94       175\n",
            "weighted avg       0.94      0.94      0.94       175\n",
            "\n"
          ]
        },
        {
          "output_type": "execute_result",
          "data": {
            "text/plain": [
              "0.9370865688812194"
            ]
          },
          "metadata": {},
          "execution_count": 217
        }
      ]
    },
    {
      "cell_type": "code",
      "source": [
        "pred_list = test_overstatement_df.clean_tweet2.values\n",
        "true_labels = test_overstatement_df['overstatement'].tolist()\n",
        "test_data = tf.data.Dataset.from_tensor_slices((pred_list, [0]*len(pred_list))) \n",
        "test_data = (test_data.map(to_feature_map).batch(1))\n",
        "preds = model_overstatement.predict(test_data)\n",
        "threshold = 0.5 # between 0 and 1\n",
        "prediction = [ 1 if pred>threshold else 0 for pred in preds]\n",
        "print(prediction.count(1))\n",
        "print(len(prediction))\n",
        "print(classification_report(true_labels, prediction))\n",
        "f1_score(true_labels, prediction, average='macro')"
      ],
      "metadata": {
        "id": "y7iJyVdRXmYf",
        "colab": {
          "base_uri": "https://localhost:8080/"
        },
        "outputId": "7024635b-62e8-440b-cd0a-9adba5e87172"
      },
      "execution_count": null,
      "outputs": [
        {
          "output_type": "stream",
          "name": "stdout",
          "text": [
            "22\n",
            "148\n",
            "              precision    recall  f1-score   support\n",
            "\n",
            "           0       0.98      1.00      0.99       124\n",
            "           1       1.00      0.92      0.96        24\n",
            "\n",
            "    accuracy                           0.99       148\n",
            "   macro avg       0.99      0.96      0.97       148\n",
            "weighted avg       0.99      0.99      0.99       148\n",
            "\n"
          ]
        },
        {
          "output_type": "execute_result",
          "data": {
            "text/plain": [
              "0.9742608695652173"
            ]
          },
          "metadata": {},
          "execution_count": 218
        }
      ]
    },
    {
      "cell_type": "markdown",
      "source": [
        "## Prediction on test data"
      ],
      "metadata": {
        "id": "4Y3bM-MuuGsi"
      }
    },
    {
      "cell_type": "code",
      "metadata": {
        "id": "K4B8NQBLd9rN",
        "colab": {
          "base_uri": "https://localhost:8080/",
          "height": 206
        },
        "outputId": "ec306096-6eb5-4d9b-a789-89d2258c9b98"
      },
      "source": [
        "pred_data = pd.read_csv(\"/content/taskB.En.input.csv\")\n",
        "pred_data.head()"
      ],
      "execution_count": null,
      "outputs": [
        {
          "output_type": "execute_result",
          "data": {
            "text/html": [
              "\n",
              "  <div id=\"df-7b231ca6-c551-44c1-8d46-7cf840704410\">\n",
              "    <div class=\"colab-df-container\">\n",
              "      <div>\n",
              "<style scoped>\n",
              "    .dataframe tbody tr th:only-of-type {\n",
              "        vertical-align: middle;\n",
              "    }\n",
              "\n",
              "    .dataframe tbody tr th {\n",
              "        vertical-align: top;\n",
              "    }\n",
              "\n",
              "    .dataframe thead th {\n",
              "        text-align: right;\n",
              "    }\n",
              "</style>\n",
              "<table border=\"1\" class=\"dataframe\">\n",
              "  <thead>\n",
              "    <tr style=\"text-align: right;\">\n",
              "      <th></th>\n",
              "      <th>text</th>\n",
              "    </tr>\n",
              "  </thead>\n",
              "  <tbody>\n",
              "    <tr>\n",
              "      <th>0</th>\n",
              "      <td>saw a video of someone getting a hug. would LO...</td>\n",
              "    </tr>\n",
              "    <tr>\n",
              "      <th>1</th>\n",
              "      <td>\"This Christmas I hope you all either get vacc...</td>\n",
              "    </tr>\n",
              "    <tr>\n",
              "      <th>2</th>\n",
              "      <td>It's the alamo</td>\n",
              "    </tr>\n",
              "    <tr>\n",
              "      <th>3</th>\n",
              "      <td>Wind 5 mph E. Barometer 1029.8 hPa, Pressure t...</td>\n",
              "    </tr>\n",
              "    <tr>\n",
              "      <th>4</th>\n",
              "      <td>I constantly have loads of the new symptoms bu...</td>\n",
              "    </tr>\n",
              "  </tbody>\n",
              "</table>\n",
              "</div>\n",
              "      <button class=\"colab-df-convert\" onclick=\"convertToInteractive('df-7b231ca6-c551-44c1-8d46-7cf840704410')\"\n",
              "              title=\"Convert this dataframe to an interactive table.\"\n",
              "              style=\"display:none;\">\n",
              "        \n",
              "  <svg xmlns=\"http://www.w3.org/2000/svg\" height=\"24px\"viewBox=\"0 0 24 24\"\n",
              "       width=\"24px\">\n",
              "    <path d=\"M0 0h24v24H0V0z\" fill=\"none\"/>\n",
              "    <path d=\"M18.56 5.44l.94 2.06.94-2.06 2.06-.94-2.06-.94-.94-2.06-.94 2.06-2.06.94zm-11 1L8.5 8.5l.94-2.06 2.06-.94-2.06-.94L8.5 2.5l-.94 2.06-2.06.94zm10 10l.94 2.06.94-2.06 2.06-.94-2.06-.94-.94-2.06-.94 2.06-2.06.94z\"/><path d=\"M17.41 7.96l-1.37-1.37c-.4-.4-.92-.59-1.43-.59-.52 0-1.04.2-1.43.59L10.3 9.45l-7.72 7.72c-.78.78-.78 2.05 0 2.83L4 21.41c.39.39.9.59 1.41.59.51 0 1.02-.2 1.41-.59l7.78-7.78 2.81-2.81c.8-.78.8-2.07 0-2.86zM5.41 20L4 18.59l7.72-7.72 1.47 1.35L5.41 20z\"/>\n",
              "  </svg>\n",
              "      </button>\n",
              "      \n",
              "  <style>\n",
              "    .colab-df-container {\n",
              "      display:flex;\n",
              "      flex-wrap:wrap;\n",
              "      gap: 12px;\n",
              "    }\n",
              "\n",
              "    .colab-df-convert {\n",
              "      background-color: #E8F0FE;\n",
              "      border: none;\n",
              "      border-radius: 50%;\n",
              "      cursor: pointer;\n",
              "      display: none;\n",
              "      fill: #1967D2;\n",
              "      height: 32px;\n",
              "      padding: 0 0 0 0;\n",
              "      width: 32px;\n",
              "    }\n",
              "\n",
              "    .colab-df-convert:hover {\n",
              "      background-color: #E2EBFA;\n",
              "      box-shadow: 0px 1px 2px rgba(60, 64, 67, 0.3), 0px 1px 3px 1px rgba(60, 64, 67, 0.15);\n",
              "      fill: #174EA6;\n",
              "    }\n",
              "\n",
              "    [theme=dark] .colab-df-convert {\n",
              "      background-color: #3B4455;\n",
              "      fill: #D2E3FC;\n",
              "    }\n",
              "\n",
              "    [theme=dark] .colab-df-convert:hover {\n",
              "      background-color: #434B5C;\n",
              "      box-shadow: 0px 1px 3px 1px rgba(0, 0, 0, 0.15);\n",
              "      filter: drop-shadow(0px 1px 2px rgba(0, 0, 0, 0.3));\n",
              "      fill: #FFFFFF;\n",
              "    }\n",
              "  </style>\n",
              "\n",
              "      <script>\n",
              "        const buttonEl =\n",
              "          document.querySelector('#df-7b231ca6-c551-44c1-8d46-7cf840704410 button.colab-df-convert');\n",
              "        buttonEl.style.display =\n",
              "          google.colab.kernel.accessAllowed ? 'block' : 'none';\n",
              "\n",
              "        async function convertToInteractive(key) {\n",
              "          const element = document.querySelector('#df-7b231ca6-c551-44c1-8d46-7cf840704410');\n",
              "          const dataTable =\n",
              "            await google.colab.kernel.invokeFunction('convertToInteractive',\n",
              "                                                     [key], {});\n",
              "          if (!dataTable) return;\n",
              "\n",
              "          const docLinkHtml = 'Like what you see? Visit the ' +\n",
              "            '<a target=\"_blank\" href=https://colab.research.google.com/notebooks/data_table.ipynb>data table notebook</a>'\n",
              "            + ' to learn more about interactive tables.';\n",
              "          element.innerHTML = '';\n",
              "          dataTable['output_type'] = 'display_data';\n",
              "          await google.colab.output.renderOutput(dataTable, element);\n",
              "          const docLink = document.createElement('div');\n",
              "          docLink.innerHTML = docLinkHtml;\n",
              "          element.appendChild(docLink);\n",
              "        }\n",
              "      </script>\n",
              "    </div>\n",
              "  </div>\n",
              "  "
            ],
            "text/plain": [
              "                                                text\n",
              "0  saw a video of someone getting a hug. would LO...\n",
              "1  \"This Christmas I hope you all either get vacc...\n",
              "2                                     It's the alamo\n",
              "3  Wind 5 mph E. Barometer 1029.8 hPa, Pressure t...\n",
              "4  I constantly have loads of the new symptoms bu..."
            ]
          },
          "metadata": {},
          "execution_count": 219
        }
      ]
    },
    {
      "cell_type": "code",
      "metadata": {
        "id": "FeVNOGfFJT9O",
        "colab": {
          "base_uri": "https://localhost:8080/"
        },
        "outputId": "a7154dd1-84e0-4e7e-e7f1-2cfb290eb7b5"
      },
      "source": [
        "pred_list2 = pred_data.text.values\n",
        "pred_list2"
      ],
      "execution_count": null,
      "outputs": [
        {
          "output_type": "execute_result",
          "data": {
            "text/plain": [
              "array(['saw a video of someone getting a hug. would LOVE a hug. u know those really nice ones',\n",
              "       '\"This Christmas I hope you all either get vaccinated or wear a mask. The omicron variant is not going to give us a nice Christmas gift by deciding to not be spread amongst people.\" ',\n",
              "       \"It's the alamo\", ...,\n",
              "       'Of course it’s raining when I’m due to go out tonight 👍🏻',\n",
              "       'Weigh up a lie before you tell it.',\n",
              "       'Upand dressed at a reasonable time once again now that I have a new bathroom floor down'],\n",
              "      dtype=object)"
            ]
          },
          "metadata": {},
          "execution_count": 220
        }
      ]
    },
    {
      "cell_type": "markdown",
      "source": [
        ""
      ],
      "metadata": {
        "id": "1ua5X3AzuE0T"
      }
    },
    {
      "cell_type": "code",
      "metadata": {
        "id": "I_YWudFRJT__"
      },
      "source": [
        "test_data = tf.data.Dataset.from_tensor_slices((pred_list2, [0]*len(pred_list2))) \n",
        "test_data = (test_data.map(to_feature_map).batch(1))\n",
        "threshold = 0.5 # between 0 and 1\n"
      ],
      "execution_count": null,
      "outputs": []
    },
    {
      "cell_type": "code",
      "source": [
        "preds = model_irony.predict(test_data)\n",
        "prediction2 = [ 1 if pred>threshold else 0 for pred in preds]\n",
        "taskb_pred = pd.DataFrame(prediction2, columns =['irony'])\n",
        "print(prediction2.count(1))\n",
        "len(prediction2)"
      ],
      "metadata": {
        "id": "SY5r9yqLbEwA",
        "colab": {
          "base_uri": "https://localhost:8080/"
        },
        "outputId": "4eda2da3-bf98-4f53-aa4a-85538d0dfaaf"
      },
      "execution_count": null,
      "outputs": [
        {
          "output_type": "stream",
          "name": "stdout",
          "text": [
            "250\n"
          ]
        },
        {
          "output_type": "execute_result",
          "data": {
            "text/plain": [
              "1400"
            ]
          },
          "metadata": {},
          "execution_count": 222
        }
      ]
    },
    {
      "cell_type": "code",
      "metadata": {
        "id": "hENB__IlJUCk",
        "colab": {
          "base_uri": "https://localhost:8080/"
        },
        "outputId": "f308b111-9a57-4fe6-9af8-4ff510166736"
      },
      "source": [
        "preds = model_satire.predict(test_data)\n",
        "prediction2 = [ 1 if pred>threshold else 0 for pred in preds]\n",
        "taskb_pred = taskb_pred.assign(satire=prediction2)\n",
        "print(prediction2.count(1))\n",
        "len(prediction2)"
      ],
      "execution_count": null,
      "outputs": [
        {
          "output_type": "stream",
          "name": "stdout",
          "text": [
            "23\n"
          ]
        },
        {
          "output_type": "execute_result",
          "data": {
            "text/plain": [
              "1400"
            ]
          },
          "metadata": {},
          "execution_count": 223
        }
      ]
    },
    {
      "cell_type": "code",
      "metadata": {
        "id": "wkYpiGrhJUFK",
        "colab": {
          "base_uri": "https://localhost:8080/"
        },
        "outputId": "c1a4557e-fb0d-4a89-acff-962c5760027f"
      },
      "source": [
        "preds = model_understatement.predict(test_data)\n",
        "prediction2 = [ 1 if pred>threshold else 0 for pred in preds]\n",
        "taskb_pred = taskb_pred.assign(understatement=prediction2)\n",
        "print(prediction2.count(1))\n",
        "len(prediction2)"
      ],
      "execution_count": null,
      "outputs": [
        {
          "output_type": "stream",
          "name": "stdout",
          "text": [
            "24\n"
          ]
        },
        {
          "output_type": "execute_result",
          "data": {
            "text/plain": [
              "1400"
            ]
          },
          "metadata": {},
          "execution_count": 224
        }
      ]
    },
    {
      "cell_type": "code",
      "metadata": {
        "id": "iYqbQZJnJUHw",
        "colab": {
          "base_uri": "https://localhost:8080/"
        },
        "outputId": "97ce68e8-d0c4-464a-c557-b6e24e32a8cd"
      },
      "source": [
        "preds = model_rhetorical_question.predict(test_data)\n",
        "prediction2 = [ 1 if pred>threshold else 0 for pred in preds]\n",
        "taskb_pred = taskb_pred.assign(rhetorical_question=prediction2)\n",
        "print(prediction2.count(1))\n",
        "len(prediction2)"
      ],
      "execution_count": null,
      "outputs": [
        {
          "output_type": "stream",
          "name": "stdout",
          "text": [
            "134\n"
          ]
        },
        {
          "output_type": "execute_result",
          "data": {
            "text/plain": [
              "1400"
            ]
          },
          "metadata": {},
          "execution_count": 225
        }
      ]
    },
    {
      "cell_type": "code",
      "source": [
        "preds = model_overstatement.predict(test_data)\n",
        "prediction2 = [ 1 if pred>threshold else 0 for pred in preds]\n",
        "taskb_pred = taskb_pred.assign(overstatement=prediction2)\n",
        "print(prediction2.count(1))\n",
        "len(prediction2)"
      ],
      "metadata": {
        "id": "Q2UJm8LFbotl",
        "colab": {
          "base_uri": "https://localhost:8080/"
        },
        "outputId": "5815c0b3-4d70-4589-ea55-a89d076d70c9"
      },
      "execution_count": null,
      "outputs": [
        {
          "output_type": "stream",
          "name": "stdout",
          "text": [
            "36\n"
          ]
        },
        {
          "output_type": "execute_result",
          "data": {
            "text/plain": [
              "1400"
            ]
          },
          "metadata": {},
          "execution_count": 226
        }
      ]
    },
    {
      "cell_type": "code",
      "metadata": {
        "id": "aiKuBGgfJUKv"
      },
      "source": [
        "taskb_pred.to_csv(\"taskb_data_aug_on public_data.csv\", index = False)"
      ],
      "execution_count": null,
      "outputs": []
    },
    {
      "cell_type": "code",
      "source": [
        "#########################################################################################"
      ],
      "metadata": {
        "id": "kOojM4iFWDUn"
      },
      "execution_count": null,
      "outputs": []
    },
    {
      "cell_type": "code",
      "source": [
        "taskb_pred"
      ],
      "metadata": {
        "id": "DYAcIaD3XXo8",
        "colab": {
          "base_uri": "https://localhost:8080/",
          "height": 423
        },
        "outputId": "f5d916cf-c2de-48df-95e3-edb7a792d2cc"
      },
      "execution_count": null,
      "outputs": [
        {
          "output_type": "execute_result",
          "data": {
            "text/html": [
              "\n",
              "  <div id=\"df-1da1a1ba-4b31-4ba5-996e-d55913090adc\">\n",
              "    <div class=\"colab-df-container\">\n",
              "      <div>\n",
              "<style scoped>\n",
              "    .dataframe tbody tr th:only-of-type {\n",
              "        vertical-align: middle;\n",
              "    }\n",
              "\n",
              "    .dataframe tbody tr th {\n",
              "        vertical-align: top;\n",
              "    }\n",
              "\n",
              "    .dataframe thead th {\n",
              "        text-align: right;\n",
              "    }\n",
              "</style>\n",
              "<table border=\"1\" class=\"dataframe\">\n",
              "  <thead>\n",
              "    <tr style=\"text-align: right;\">\n",
              "      <th></th>\n",
              "      <th>irony</th>\n",
              "      <th>satire</th>\n",
              "      <th>understatement</th>\n",
              "      <th>rhetorical_question</th>\n",
              "      <th>overstatement</th>\n",
              "    </tr>\n",
              "  </thead>\n",
              "  <tbody>\n",
              "    <tr>\n",
              "      <th>0</th>\n",
              "      <td>0</td>\n",
              "      <td>0</td>\n",
              "      <td>0</td>\n",
              "      <td>0</td>\n",
              "      <td>0</td>\n",
              "    </tr>\n",
              "    <tr>\n",
              "      <th>1</th>\n",
              "      <td>0</td>\n",
              "      <td>0</td>\n",
              "      <td>0</td>\n",
              "      <td>0</td>\n",
              "      <td>0</td>\n",
              "    </tr>\n",
              "    <tr>\n",
              "      <th>2</th>\n",
              "      <td>0</td>\n",
              "      <td>0</td>\n",
              "      <td>0</td>\n",
              "      <td>0</td>\n",
              "      <td>0</td>\n",
              "    </tr>\n",
              "    <tr>\n",
              "      <th>3</th>\n",
              "      <td>1</td>\n",
              "      <td>0</td>\n",
              "      <td>0</td>\n",
              "      <td>0</td>\n",
              "      <td>0</td>\n",
              "    </tr>\n",
              "    <tr>\n",
              "      <th>4</th>\n",
              "      <td>0</td>\n",
              "      <td>0</td>\n",
              "      <td>0</td>\n",
              "      <td>0</td>\n",
              "      <td>0</td>\n",
              "    </tr>\n",
              "    <tr>\n",
              "      <th>...</th>\n",
              "      <td>...</td>\n",
              "      <td>...</td>\n",
              "      <td>...</td>\n",
              "      <td>...</td>\n",
              "      <td>...</td>\n",
              "    </tr>\n",
              "    <tr>\n",
              "      <th>1395</th>\n",
              "      <td>0</td>\n",
              "      <td>0</td>\n",
              "      <td>0</td>\n",
              "      <td>0</td>\n",
              "      <td>0</td>\n",
              "    </tr>\n",
              "    <tr>\n",
              "      <th>1396</th>\n",
              "      <td>1</td>\n",
              "      <td>0</td>\n",
              "      <td>0</td>\n",
              "      <td>0</td>\n",
              "      <td>0</td>\n",
              "    </tr>\n",
              "    <tr>\n",
              "      <th>1397</th>\n",
              "      <td>1</td>\n",
              "      <td>0</td>\n",
              "      <td>0</td>\n",
              "      <td>0</td>\n",
              "      <td>0</td>\n",
              "    </tr>\n",
              "    <tr>\n",
              "      <th>1398</th>\n",
              "      <td>0</td>\n",
              "      <td>0</td>\n",
              "      <td>0</td>\n",
              "      <td>0</td>\n",
              "      <td>0</td>\n",
              "    </tr>\n",
              "    <tr>\n",
              "      <th>1399</th>\n",
              "      <td>1</td>\n",
              "      <td>0</td>\n",
              "      <td>0</td>\n",
              "      <td>0</td>\n",
              "      <td>0</td>\n",
              "    </tr>\n",
              "  </tbody>\n",
              "</table>\n",
              "<p>1400 rows × 5 columns</p>\n",
              "</div>\n",
              "      <button class=\"colab-df-convert\" onclick=\"convertToInteractive('df-1da1a1ba-4b31-4ba5-996e-d55913090adc')\"\n",
              "              title=\"Convert this dataframe to an interactive table.\"\n",
              "              style=\"display:none;\">\n",
              "        \n",
              "  <svg xmlns=\"http://www.w3.org/2000/svg\" height=\"24px\"viewBox=\"0 0 24 24\"\n",
              "       width=\"24px\">\n",
              "    <path d=\"M0 0h24v24H0V0z\" fill=\"none\"/>\n",
              "    <path d=\"M18.56 5.44l.94 2.06.94-2.06 2.06-.94-2.06-.94-.94-2.06-.94 2.06-2.06.94zm-11 1L8.5 8.5l.94-2.06 2.06-.94-2.06-.94L8.5 2.5l-.94 2.06-2.06.94zm10 10l.94 2.06.94-2.06 2.06-.94-2.06-.94-.94-2.06-.94 2.06-2.06.94z\"/><path d=\"M17.41 7.96l-1.37-1.37c-.4-.4-.92-.59-1.43-.59-.52 0-1.04.2-1.43.59L10.3 9.45l-7.72 7.72c-.78.78-.78 2.05 0 2.83L4 21.41c.39.39.9.59 1.41.59.51 0 1.02-.2 1.41-.59l7.78-7.78 2.81-2.81c.8-.78.8-2.07 0-2.86zM5.41 20L4 18.59l7.72-7.72 1.47 1.35L5.41 20z\"/>\n",
              "  </svg>\n",
              "      </button>\n",
              "      \n",
              "  <style>\n",
              "    .colab-df-container {\n",
              "      display:flex;\n",
              "      flex-wrap:wrap;\n",
              "      gap: 12px;\n",
              "    }\n",
              "\n",
              "    .colab-df-convert {\n",
              "      background-color: #E8F0FE;\n",
              "      border: none;\n",
              "      border-radius: 50%;\n",
              "      cursor: pointer;\n",
              "      display: none;\n",
              "      fill: #1967D2;\n",
              "      height: 32px;\n",
              "      padding: 0 0 0 0;\n",
              "      width: 32px;\n",
              "    }\n",
              "\n",
              "    .colab-df-convert:hover {\n",
              "      background-color: #E2EBFA;\n",
              "      box-shadow: 0px 1px 2px rgba(60, 64, 67, 0.3), 0px 1px 3px 1px rgba(60, 64, 67, 0.15);\n",
              "      fill: #174EA6;\n",
              "    }\n",
              "\n",
              "    [theme=dark] .colab-df-convert {\n",
              "      background-color: #3B4455;\n",
              "      fill: #D2E3FC;\n",
              "    }\n",
              "\n",
              "    [theme=dark] .colab-df-convert:hover {\n",
              "      background-color: #434B5C;\n",
              "      box-shadow: 0px 1px 3px 1px rgba(0, 0, 0, 0.15);\n",
              "      filter: drop-shadow(0px 1px 2px rgba(0, 0, 0, 0.3));\n",
              "      fill: #FFFFFF;\n",
              "    }\n",
              "  </style>\n",
              "\n",
              "      <script>\n",
              "        const buttonEl =\n",
              "          document.querySelector('#df-1da1a1ba-4b31-4ba5-996e-d55913090adc button.colab-df-convert');\n",
              "        buttonEl.style.display =\n",
              "          google.colab.kernel.accessAllowed ? 'block' : 'none';\n",
              "\n",
              "        async function convertToInteractive(key) {\n",
              "          const element = document.querySelector('#df-1da1a1ba-4b31-4ba5-996e-d55913090adc');\n",
              "          const dataTable =\n",
              "            await google.colab.kernel.invokeFunction('convertToInteractive',\n",
              "                                                     [key], {});\n",
              "          if (!dataTable) return;\n",
              "\n",
              "          const docLinkHtml = 'Like what you see? Visit the ' +\n",
              "            '<a target=\"_blank\" href=https://colab.research.google.com/notebooks/data_table.ipynb>data table notebook</a>'\n",
              "            + ' to learn more about interactive tables.';\n",
              "          element.innerHTML = '';\n",
              "          dataTable['output_type'] = 'display_data';\n",
              "          await google.colab.output.renderOutput(dataTable, element);\n",
              "          const docLink = document.createElement('div');\n",
              "          docLink.innerHTML = docLinkHtml;\n",
              "          element.appendChild(docLink);\n",
              "        }\n",
              "      </script>\n",
              "    </div>\n",
              "  </div>\n",
              "  "
            ],
            "text/plain": [
              "      irony  satire  understatement  rhetorical_question  overstatement\n",
              "0         0       0               0                    0              0\n",
              "1         0       0               0                    0              0\n",
              "2         0       0               0                    0              0\n",
              "3         1       0               0                    0              0\n",
              "4         0       0               0                    0              0\n",
              "...     ...     ...             ...                  ...            ...\n",
              "1395      0       0               0                    0              0\n",
              "1396      1       0               0                    0              0\n",
              "1397      1       0               0                    0              0\n",
              "1398      0       0               0                    0              0\n",
              "1399      1       0               0                    0              0\n",
              "\n",
              "[1400 rows x 5 columns]"
            ]
          },
          "metadata": {},
          "execution_count": 229
        }
      ]
    },
    {
      "cell_type": "markdown",
      "source": [
        "## Result"
      ],
      "metadata": {
        "id": "CDc8LKI7uPyl"
      }
    },
    {
      "cell_type": "markdown",
      "source": [
        "Detail Result for irony: Accuracy = 0.89, Macro F1-Score= 0.88,\n",
        "\n",
        "Detail Result for satire: Accuracy = 0.99, Macro F1-Score= 0.96,\n",
        "\n",
        "Detail Result for understatement : Accuracy = 1.00, Macro F1-Score= 1.00,\n",
        "\n",
        "Detail Result for overstatement: Accuracy = .99, Macro F1-Score= 0.97,\n",
        "\n",
        "Detail Result for rhetorical question: Accuracy = 0.94, Macro F1-Score= 0.93"
      ],
      "metadata": {
        "id": "2E0LG3TVvttn"
      }
    },
    {
      "cell_type": "code",
      "source": [
        ""
      ],
      "metadata": {
        "id": "R97trpDTuW6P"
      },
      "execution_count": null,
      "outputs": []
    }
  ]
}